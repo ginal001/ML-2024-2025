print("hello world")


print("hello")


import numpy as np


x = np.array([1, 2, 3])


x 


3@a



