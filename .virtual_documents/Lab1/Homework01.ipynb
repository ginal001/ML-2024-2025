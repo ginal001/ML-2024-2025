





import pandas as pd
import numpy as np

url = 'https://raw.githubusercontent.com/SzymonNowakowski/Machine-Learning-2024/refs/heads/master/PCA_three_clusters_data.csv'
data = pd.read_csv(url)





X = data.iloc[:, :3].to_numpy()
y = data.iloc[:, 3].to_numpy()
data





import matplotlib.pyplot as plt

for i in range(0, 3): #todo
    plt.scatter(X[y == i, 0], X[y == i, 1], label=i, alpha=0.7)

plt.xlabel("X")
plt.ylabel("Y")
plt.title("Plot of x vs y")
plt.legend(title="class")
plt.grid(True)
plt.show()


for i in range(0, 3):
    plt.scatter(X[y == i, 0], X[y == i, 2], label=i, alpha=0.7)

plt.xlabel("X")
plt.ylabel("Z")
plt.title("Plot of x vs z")
plt.legend(title="class")
plt.grid(True)
plt.show()


for i in range(0, 3):
    plt.scatter(X[y == i, 1], X[y == i, 2], label=i, alpha=0.7)

plt.xlabel("Y")
plt.ylabel("Z")
plt.title("Plot of y vs z")
plt.legend(title="class")
plt.grid(True)
plt.show()


from sklearn.preprocessing import StandardScaler
from sklearn.decomposition import PCA

# Center and standardize the data before applying PCA
scaler = StandardScaler()
X = scaler.fit_transform(X)

# Perform PCA and reduce the data to 2 components for visualization
pca = PCA(n_components = 2)
XV = pca.fit_transform(X)


for i in range(0,3):
    plt.scatter(XV[Y==i, 0], XV[Y==i, 1], label=i, alpha=0.7)

plt.xlabel("Principal Component 1")
plt.ylabel("Principal Component 2")
plt.title("PCA of our dataset")
plt.legend(title="Class")
plt.grid(True)
plt.show()


fig = plt.figure(figsize = (10, 7))
ax = plt.axes(projection ="3d")
 
# Creating plot #todo
ax.scatter3D(X[y == 0,0], X[y == 0,1], X[y == 0,2], color = "green")
ax.scatter3D(X[y == 1,0], X[y == 1,1], X[y == 1,2], color = "red")
ax.scatter3D(X[y == 2,0], X[y == 2,1], X[y == 2,2], color = "blue")
plt.title("simple 3D scatter plot")
 
# show plot
plt.show()






