{
 "cells": [
  {
   "cell_type": "code",
   "execution_count": 1,
   "id": "a73408ee-948f-45a5-864e-716d29a444d0",
   "metadata": {},
   "outputs": [
    {
     "name": "stdout",
     "output_type": "stream",
     "text": [
      "Homework\n"
     ]
    }
   ],
   "source": [
    "print(\"Homework\")"
   ]
  },
  {
   "cell_type": "code",
   "execution_count": null,
   "id": "2cba10bd-f116-4ba6-b605-bd4b1341696c",
   "metadata": {},
   "outputs": [],
   "source": []
  }
 ],
 "metadata": {
  "kernelspec": {
   "display_name": "Python 3 (ipykernel)",
   "language": "python",
   "name": "python3"
  },
  "language_info": {
   "codemirror_mode": {
    "name": "ipython",
    "version": 3
   },
   "file_extension": ".py",
   "mimetype": "text/x-python",
   "name": "python",
   "nbconvert_exporter": "python",
   "pygments_lexer": "ipython3",
   "version": "3.12.4"
  }
 },
 "nbformat": 4,
 "nbformat_minor": 5
}
