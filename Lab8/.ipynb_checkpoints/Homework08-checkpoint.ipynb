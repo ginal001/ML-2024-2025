{
 "cells": [
  {
   "cell_type": "markdown",
   "id": "18bd921c-f1b9-4ed7-9f8f-3e700e0185fd",
   "metadata": {},
   "source": [
    "<a target=\"_blank\" href=\"https://colab.research.google.com/github/ginal001/ML-2024-2025/blob/main/Lab8/Homework08.ipynb\">\n",
    "  <img src=\"https://colab.research.google.com/assets/colab-badge.svg\" alt=\"Open In Colab\"/>\n",
    "</a>"
   ]
  },
  {
   "cell_type": "markdown",
   "id": "7c742c0e-adf6-4903-a5b9-41b325c8e44b",
   "metadata": {},
   "source": [
    "# **Homework Assignment: Working with Other Loss Functions**\n",
    "\n",
    "-------------------------------\n",
    "\n",
    "During the class today, we reconstructed an **ellipse**. The ellipse was defined with two **foci** and $C$ (the sum of distances of the ellipse points from the foci).\n",
    "\n",
    "To reconstruct the ellipse through optimization, we began with **$N$ points** scattered randomly in the 2D plane. Our goal was to adjust their positions so that they satisfy the elliptical constraint as closely as possible. We achieved this by minimizing the **error-related loss**, $L^{(2)}_{\\text{ellipse}}$ which was defined in today's class with $\\ell_2$ norm as:\n",
    "\n",
    "$$\n",
    "L^{(2)}_{\\text{ellipse}} = \\frac{1}{N} \\sum_{i=1}^{N} \\epsilon_i^2\n",
    "$$\n",
    "\n",
    "where\n",
    "$$\n",
    " \\epsilon_i = d_{i1} + d_{i2} - C\n",
    "$$\n",
    "where $N$ is the number of points, and $d_{i1}, d_{i2}$ are their distances to the two foci.\n",
    "\n",
    "In the homework assignment you will experiment with 3 other loss definitions based on some other possible norms.\n",
    "\n",
    "\n",
    "\n",
    "1. $\\ell_0$ norm resulting in\n",
    "  $$\n",
    "  L^{(0)}_{\\text{ellipse}} = \\frac{1}{N} \\sum_{i=1}^{N} \\mathbf{1}(\\epsilon_i \\neq 0)\n",
    "  $$\n",
    "  - If you actually succeed to code this loss function, the question for you to answer in relation to $L^{(0)}_{\\text{ellipse}}$ is why the training is not progressing with passing epochs.\n",
    "  - If you actually fail to code this loss function, the question for you to answer is to explain the failure and reason out theoretically, why the training would not be progressing with passing epochs, anyway.\n",
    "\n",
    "1. $\\ell_1$ norm resulting in\n",
    "  $$\n",
    "  L^{(1)}_{\\text{ellipse}} = \\frac{1}{N} \\sum_{i=1}^{N} |\\epsilon_i|\n",
    "  $$\n",
    "  The question for you to answer in relation to $L^{(1)}_{\\text{ellipse}}$ is why the training loss doesn't converge, even after the ellipse has been fully drawn.\n",
    "\n",
    "1. $\\ell_\\infty$ norm resulting in\n",
    "  $$\n",
    "  L^{(\\infty)}_{\\text{ellipse}} =  \\max_{i} |\\epsilon_i|\n",
    "  $$\n",
    "  The question for you to answer in relation to $L^{(\\infty)}_{\\text{ellipse}}$ is why the training takes so long and it doesn't converge in the end, either.\n",
    "\n",
    "## **Points to Note**\n",
    "\n",
    "1. Draw both the shape that the points draw as they move, and the loss value after each epoch, just as we did in class today.\n",
    "\n",
    "2. Note, that the purpose of this excercise is not that you reconstruct a perfect ellipse, but rather that you give it a try, and even if you fail you should document and explain the failure, and answer a question related to a given loss definition.\n",
    "\n",
    "3. You can also play around with the learning rate to try to improve convergence.\n",
    "\n",
    "## **Task & Deliverables**\n",
    "  \n",
    "   - Document your experiments (python code and charts) and **write down your conclusions** into the Colab notebook.\n",
    "   - It is not strictly required, but **if you make a movie showing the optimization progress it will be considered a strong point of your solution**\n",
    "     - You can make a movie programmatically as we did in clustering class (our second class) with EM clustering,\n",
    "     - or, you can save to disk the image files with epoch charts and use an external tool to bind them into a movie. Provide links to movie files in the README.\n",
    "   - Place the Colab notebook  with the solution in your **GitHub repository** for this course.\n",
    "   - In your repository’s **README**, add a **link** to the notebook (and any movies you created) and also include an **“Open in Colab”** badge at the top of the notebook so it can be launched directly from GitHub.\n",
    "\n",
    "## Sample code\n",
    "\n",
    "   You can use the sample code provided below:\n"
   ]
  },
  {
   "cell_type": "code",
   "execution_count": null,
   "id": "e8f7f231-92d2-48f8-bd40-1de3b5cfe73e",
   "metadata": {},
   "outputs": [],
   "source": [
    "import torch\n",
    "import matplotlib.pyplot as plt\n",
    "import numpy as np\n",
    "\n",
    "# Fix the random seed for reproducibility\n",
    "torch.manual_seed(42)\n",
    "np.random.seed(42)\n",
    "\n",
    "# Define ellipse parameters\n",
    "focus1 = torch.tensor([-2.0, 0.0])  # First focus\n",
    "focus2 = torch.tensor([2.0, 0.0])   # Second focus\n",
    "constant_sum = 6.0  # The sum of distances to the two foci\n",
    "\n",
    "# Initialize random 2D points from uniform distribution\n",
    "num_points = 100\n",
    "points = torch.rand((num_points, 2)) * 10 - 5  # Uniformly distributed in [-5, 5]\n",
    "points.requires_grad = True\n",
    "\n",
    "# Reset trajectories\n",
    "trajectories = [[] for _ in range(num_points)]\n",
    "loss_history = []\n",
    "\n",
    "\n",
    "import time\n",
    "# Start timing\n",
    "start_time = time.time()\n",
    "\n",
    "\n",
    "# Define optimizer\n",
    "optimizer = torch.optim.Adam([points], lr=0.1)\n",
    "\n",
    "# Training loop\n",
    "num_epochs = 1000\n",
    "for epoch in range(num_epochs):\n",
    "    optimizer.zero_grad()\n",
    "\n",
    "    # Compute distances to both foci\n",
    "    dist1 = torch.norm(points - focus1, dim=1)\n",
    "    dist2 = torch.norm(points - focus2, dim=1)\n",
    "\n",
    "    # Compute loss - it is implemented as MSE loss related to l_2 norm\n",
    "    # TODO: your job is to replace the line below\n",
    "    # with l_0, l_1 and l_infty - related loss\n",
    "    loss = torch.mean((dist1 + dist2 - constant_sum) **2)\n",
    "\n",
    "    loss.backward()\n",
    "    optimizer.step()\n",
    "\n",
    "    loss_history.append(loss.item())\n",
    "\n",
    "    # Store current positions for tracking movement\n",
    "    for i in range(num_points):\n",
    "        trajectories[i].append(points[i].detach().cpu().clone().numpy())\n",
    "\n",
    "    # Plot results every 10th epoch\n",
    "    # if epoch % 10 == 0:\n",
    "    #     plot_results(epoch, trajectories, loss_history)\n",
    "\n",
    "    # if epoch % 10 == 0:\n",
    "    #    print(f\"Epoch {epoch}: Loss = {loss.item():.6f}\")\n",
    "\n",
    "#Final plot\n",
    "# plot_results(epoch, trajectories, loss_history)\n",
    "\n",
    "\n",
    "# End timing\n",
    "end_time = time.time()\n",
    "\n",
    "# Calculate the elapsed time\n",
    "elapsed_time = end_time - start_time\n",
    "print(f\"Elapsed time: {elapsed_time} seconds\")"
   ]
  },
  {
   "cell_type": "markdown",
   "id": "d640de86-9ace-4c70-a47b-6fdd6b14b885",
   "metadata": {},
   "source": [
    "# Solution"
   ]
  },
  {
   "cell_type": "markdown",
   "id": "9d817d91-b042-4c8b-9334-d39c1be48bf0",
   "metadata": {},
   "source": [
    "We are going to use modified *sample code*. We are going to create a function from it with different losses. Also we are going to save the results after every iteration to make an animation from it."
   ]
  },
  {
   "cell_type": "code",
   "execution_count": 1,
   "id": "507e4783-9f19-4ba4-97b4-b87708c3718f",
   "metadata": {},
   "outputs": [],
   "source": [
    "import torch\n",
    "import numpy as np\n",
    "\n",
    "def train_points(num_epochs=1000, num_points=100, seed=42, lr=0.1, loss_type = 'l2'):\n",
    "    # reproducibility\n",
    "    torch.manual_seed(seed)\n",
    "    np.random.seed(seed)\n",
    "    \n",
    "    # ellipse foci and constant\n",
    "    focus1 = torch.tensor([-2.0, 0.0])\n",
    "    focus2 = torch.tensor([ 2.0, 0.0])\n",
    "    C = 6.0\n",
    "    \n",
    "    # initialize points in [-5,5]^2\n",
    "    points = (torch.rand((num_points, 2)) * 10.0 - 5.0).requires_grad_(True)\n",
    "    optimizer = torch.optim.Adam([points], lr=lr)\n",
    "    \n",
    "    # storage\n",
    "    trajectories = np.zeros((num_points, num_epochs, 2), dtype=np.float32)\n",
    "    loss_history = []\n",
    "    \n",
    "    for epoch in range(num_epochs):\n",
    "        optimizer.zero_grad()\n",
    "        \n",
    "        # compute sum‐of‐distances residual\n",
    "        d1 = torch.norm(points - focus1, dim=1)\n",
    "        d2 = torch.norm(points - focus2, dim=1)\n",
    "        r  = d1 + d2 - C\n",
    "        \n",
    "        # different losses\n",
    "        if   loss_type=='l2':\n",
    "            loss = torch.mean(r**2)\n",
    "        elif loss_type=='l1':\n",
    "            loss = torch.mean(torch.abs(r))\n",
    "        elif loss_type=='linf':\n",
    "            loss = torch.max(torch.abs(r))\n",
    "        elif loss_type=='l0':\n",
    "            # non differentiable\n",
    "            loss = torch.mean((r!=0).float())\n",
    "            \n",
    "        loss.backward()\n",
    "        optimizer.step()\n",
    "        \n",
    "        loss_history.append(loss.item())\n",
    "        \n",
    "        # record\n",
    "        trajectories[:, epoch, :] = points.detach().cpu().numpy()\n",
    "    \n",
    "    return trajectories, loss_history"
   ]
  },
  {
   "cell_type": "markdown",
   "id": "c4f90bb2-cf07-46a8-aa2a-b86722ebbc11",
   "metadata": {},
   "source": [
    "Next we can define a function for animations."
   ]
  },
  {
   "cell_type": "code",
   "execution_count": 2,
   "id": "51cf6bc0-a6bc-4226-adee-67e9381cf785",
   "metadata": {},
   "outputs": [],
   "source": [
    "import matplotlib.pyplot as plt\n",
    "from matplotlib.animation import FuncAnimation\n",
    "from IPython.display import HTML\n",
    "\n",
    "def animate_trajectories(traj, interval=100):\n",
    "    N, T, _ = traj.shape\n",
    "    fig, ax = plt.subplots(figsize=(5,5))\n",
    "    scat = ax.scatter([], [], s=20, c='r')\n",
    "    ax.set_xlim(-5,5); ax.set_ylim(-5,5)\n",
    "    ax.set_title(\"GD Trajectory\")\n",
    "\n",
    "    def init():\n",
    "        scat.set_offsets(np.zeros((N,2)))\n",
    "        return scat,\n",
    "\n",
    "    def update(frame):\n",
    "        scat.set_offsets(traj[:,frame,:])\n",
    "        ax.set_xlabel(f\"Epoch {frame+1}\")\n",
    "        return scat,\n",
    "\n",
    "    ani = FuncAnimation(fig, update, frames=T, init_func=init,\n",
    "                        interval=interval, blit=True)\n",
    "    return ani"
   ]
  },
  {
   "cell_type": "markdown",
   "id": "14284fbe-0dd6-448e-8282-72a378aea7cf",
   "metadata": {},
   "source": [
    "After that, we can use our functions for investigating different loss functions. "
   ]
  },
  {
   "cell_type": "markdown",
   "id": "9ece38aa-ef14-4b5a-b96c-24ea4f760919",
   "metadata": {},
   "source": [
    "# Investigating $L_2$ loss"
   ]
  },
  {
   "cell_type": "markdown",
   "id": "097e832f-8a9e-4d07-9605-94736ac7d540",
   "metadata": {},
   "source": [
    "Let's train our points with such a loss."
   ]
  },
  {
   "cell_type": "code",
   "execution_count": 3,
   "id": "41d6af42-1215-49ba-be20-0ad75d8b8b1b",
   "metadata": {},
   "outputs": [],
   "source": [
    "traj_l2, losses_l2 = train_points(loss_type = 'l2')"
   ]
  },
  {
   "cell_type": "code",
   "execution_count": null,
   "id": "4b100f72-924a-497c-871e-853f412c9d38",
   "metadata": {},
   "outputs": [],
   "source": [
    "ani_l2 = animate_trajectories(traj_l2, interval=200)\n",
    "\n",
    "HTML(ani_l2.to_jshtml())"
   ]
  },
  {
   "cell_type": "code",
   "execution_count": 4,
   "id": "ac66a054-3993-4e7f-8105-0995d7f768b4",
   "metadata": {},
   "outputs": [
    {
     "data": {
      "image/png": "[encoded data removed]",
      "text/plain": [
       "<Figure size 500x500 with 1 Axes>"
      ]
     },
     "metadata": {},
     "output_type": "display_data"
    }
   ],
   "source": [
    "plt.figure(figsize=(5,5))\n",
    "plt.plot(losses_l2)\n",
    "plt.title(\"L2 loss\")\n",
    "plt.show()"
   ]
  },
  {
   "cell_type": "code",
   "execution_count": 5,
   "id": "d1922f29-2292-42db-8dfd-9571972e4d7a",
   "metadata": {},
   "outputs": [
    {
     "name": "stdout",
     "output_type": "stream",
     "text": [
      "L2 loss:  8.867573017025399e-14\n"
     ]
    }
   ],
   "source": [
    "print(\"L2 loss: \", losses_l2[-1])"
   ]
  },
  {
   "cell_type": "markdown",
   "id": "60099bfb-11fa-46a7-ae79-20110e34dd62",
   "metadata": {},
   "source": [
    "It’s immediately clear that the algorithm has converged: the loss decreases smoothly toward zero and ultimately settles at an almost negligible value. In the animation, this convergence is equally obvious—after a while the points slow down and then remain essentially stationary."
   ]
  },
  {
   "cell_type": "markdown",
   "id": "b2b51382-22ee-41ed-9fda-d21b15540111",
   "metadata": {},
   "source": [
    "# Investigating $L_{\\infty}$ loss"
   ]
  },
  {
   "cell_type": "code",
   "execution_count": 6,
   "id": "686c7229-50e9-4d89-95c0-314f553a9b59",
   "metadata": {},
   "outputs": [],
   "source": [
    "traj_linf, losses_linf = train_points(loss_type = 'linf')"
   ]
  },
  {
   "cell_type": "code",
   "execution_count": null,
   "id": "db06ce9e-e959-4070-9c1f-773b75425f92",
   "metadata": {},
   "outputs": [],
   "source": [
    "ani_linf = animate_trajectories(traj_linf, interval=200)\n",
    "\n",
    "HTML(ani_linf.to_jshtml())"
   ]
  },
  {
   "cell_type": "code",
   "execution_count": 7,
   "id": "e19b549f-4d65-4aeb-8cdc-9782d3827888",
   "metadata": {},
   "outputs": [
    {
     "data": {
      "image/png": "[encoded data removed]",
      "text/plain": [
       "<Figure size 500x500 with 1 Axes>"
      ]
     },
     "metadata": {},
     "output_type": "display_data"
    }
   ],
   "source": [
    "plt.figure(figsize=(5,5))\n",
    "plt.plot(losses_linf)\n",
    "plt.title(\"Linf loss\")\n",
    "plt.show()"
   ]
  },
  {
   "cell_type": "code",
   "execution_count": 8,
   "id": "660010bc-e4be-4fa9-92dd-4c7d530a00bb",
   "metadata": {},
   "outputs": [
    {
     "name": "stdout",
     "output_type": "stream",
     "text": [
      "Linf loss:  0.40227746963500977\n"
     ]
    }
   ],
   "source": [
    "print(\"Linf loss: \", losses_linf[-1])"
   ]
  },
  {
   "cell_type": "markdown",
   "id": "99180f69-733e-4044-96ab-748fb67659a2",
   "metadata": {},
   "source": [
    "We have a problem with a convergence. From the plot of loss function we can notice that it is not smoothly approaching to zero and we have kind of white noise at the end of training process. It probably comes from the fact that $L_\\infty$ is not smooth enough and the gradient descent \"jumps over\" minimum. We can also notice that in training process we are only moving a few points at a time (which is clear from the formula for $L_\\infty$)."
   ]
  },
  {
   "cell_type": "markdown",
   "id": "393100ef-fe9e-4fc5-b55d-f1cee7566c33",
   "metadata": {},
   "source": [
    "# Investigating $L_1$ loss"
   ]
  },
  {
   "cell_type": "code",
   "execution_count": 9,
   "id": "6431abe3-d85e-42f8-985c-1082c115a2d8",
   "metadata": {},
   "outputs": [],
   "source": [
    "traj_l1, losses_l1 = train_points(loss_type = 'l1')"
   ]
  },
  {
   "cell_type": "code",
   "execution_count": null,
   "id": "f57b7735-8451-4af0-a553-1d046427019c",
   "metadata": {},
   "outputs": [],
   "source": [
    "ani_l1 = animate_trajectories(traj_l1, interval=200)\n",
    "\n",
    "HTML(ani_l1.to_jshtml())"
   ]
  },
  {
   "cell_type": "code",
   "execution_count": 10,
   "id": "4bf3c555-494f-4be7-afb4-1522f918b87c",
   "metadata": {},
   "outputs": [
    {
     "data": {
      "image/png": "[encoded data removed]",
      "text/plain": [
       "<Figure size 500x500 with 1 Axes>"
      ]
     },
     "metadata": {},
     "output_type": "display_data"
    }
   ],
   "source": [
    "plt.figure(figsize=(5,5))\n",
    "plt.plot(losses_linf)\n",
    "plt.title(\"Linf loss\")\n",
    "plt.show()"
   ]
  },
  {
   "cell_type": "code",
   "execution_count": 11,
   "id": "f2e645f4-cf63-48ee-b0e9-3cc349114ea2",
   "metadata": {},
   "outputs": [
    {
     "name": "stdout",
     "output_type": "stream",
     "text": [
      "Linf loss:  0.019764771685004234\n"
     ]
    }
   ],
   "source": [
    "print(\"Linf loss: \", losses_l1[-1])"
   ]
  },
  {
   "cell_type": "markdown",
   "id": "043fafa2-1789-4556-945c-1063a0630d98",
   "metadata": {},
   "source": [
    "We have the similar situation as in the $L_\\infty$ loss - we are jumping over minimum. In the animation we can easily see the oscillations of points during training."
   ]
  },
  {
   "cell_type": "markdown",
   "id": "f7dfa652-807d-4cc2-8ee6-be00db3469e6",
   "metadata": {},
   "source": [
    "# Investigating $L_0$"
   ]
  },
  {
   "cell_type": "markdown",
   "id": "429a7493-b4b6-48e0-832d-b8b702fb63e9",
   "metadata": {},
   "source": [
    "This one is almost every non-differentiable so we cannot actually code this one to use it with gradient descent."
   ]
  }
 ],
 "metadata": {
  "kernelspec": {
   "display_name": "Python 3 (ipykernel)",
   "language": "python",
   "name": "python3"
  },
  "language_info": {
   "codemirror_mode": {
    "name": "ipython",
    "version": 3
   },
   "file_extension": ".py",
   "mimetype": "text/x-python",
   "name": "python",
   "nbconvert_exporter": "python",
   "pygments_lexer": "ipython3",
   "version": "3.13.2"
  }
 },
 "nbformat": 4,
 "nbformat_minor": 5
}
