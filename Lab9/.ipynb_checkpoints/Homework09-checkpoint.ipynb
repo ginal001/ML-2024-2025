{
 "cells": [
  {
   "cell_type": "markdown",
   "id": "4fZB1Y2w9qYi",
   "metadata": {
    "id": "4fZB1Y2w9qYi"
   },
   "source": [
    "\n",
    "# MNIST dataset\n",
    "----------------------\n",
    "\n",
    "In this workshop, we will construct an MLP network designed to a specific task of classification of MNIST dataset: a set of handwritten digits from *zero* to *nine*. MNIST stands for Modified National Institute of Standards and Technology database.\n",
    "\n",
    "**You can read more about this dataset [here](https://colah.github.io/posts/2014-10-Visualizing-MNIST/#MNIST).**\n"
   ]
  },
  {
   "cell_type": "markdown",
   "id": "wqJVU0gp9rws",
   "metadata": {
    "id": "wqJVU0gp9rws"
   },
   "source": [
    "\n",
    "\n",
    "# Multi Layer Perceptron Notation\n",
    "---------------------------------\n",
    "\n",
    "In this workshop we will be classifying 28 by 28 images into 10 classes. Thus, a four layer perceptron (our classificator) we will work further with can be defined as\n",
    "$\\hat f:\\mathbb{R}^{28\\cdot 28} \\rightarrow \\mathbb{R}^{10}$ defined as\n",
    "\n",
    "$$\\hat f \\left(x; W_1, W_2, W_3, W_4, b_1, b_2, b_3, b_4 \\right) =  W_4 \\left[ W_3 \\left[ W_2 \\left[ W_1 x  + b_1 \\right]_+  + b_2 \\right]_+  + b_3 \\right]_+ + b_4,$$\n",
    "\n",
    "where matrices $W_1, \\ldots, W_4$ are tensors of order two (matrices) with matching dimensions and bias terms $b_1, \\ldots, b_4$ are tensors of order one (vectors) of matching dimensions, and we are using ReLU activation.\n",
    "\n",
    "Note, that there is no nonlinear activation after the last layer in our neural network. **There is an implicit softmax applied while cross entropy loss is calculated by `torch.nn.functional`.**\n"
   ]
  },
  {
   "cell_type": "markdown",
   "id": "s6RwV0RN_Kc9",
   "metadata": {
    "id": "s6RwV0RN_Kc9"
   },
   "source": [
    "# Reading MNIST Dataset to Play with It\n",
    "--------------------"
   ]
  },
  {
   "cell_type": "code",
   "execution_count": 1,
   "id": "vjAlmExA_Twh",
   "metadata": {
    "id": "vjAlmExA_Twh",
    "scrolled": true
   },
   "outputs": [],
   "source": [
    "import torch\n",
    "import torchvision\n",
    "from matplotlib import pyplot\n",
    "\n",
    "trainset = torchvision.datasets.MNIST(root='./data',\n",
    "                                      train=True,\n",
    "                                      download=True,\n",
    "                                      transform=None)"
   ]
  },
  {
   "cell_type": "code",
   "execution_count": 2,
   "id": "gcgep60g_Xs6",
   "metadata": {
    "colab": {
     "base_uri": "https://localhost:8080/",
     "height": 430
    },
    "id": "gcgep60g_Xs6",
    "outputId": "b1451990-d01c-4752-de25-e49db3f8a68e"
   },
   "outputs": [
    {
     "data": {
      "image/png": "[encoded data removed]",
      "text/plain": [
       "<Figure size 640x480 with 1 Axes>"
      ]
     },
     "metadata": {},
     "output_type": "display_data"
    }
   ],
   "source": [
    "train_image, train_target = trainset[0]    #let us examine the 0-th sample\n",
    "pyplot.imshow(train_image)\n",
    "pyplot.show()"
   ]
  },
  {
   "cell_type": "code",
   "execution_count": 3,
   "id": "5toa5f-l_eUS",
   "metadata": {
    "colab": {
     "base_uri": "https://localhost:8080/"
    },
    "id": "5toa5f-l_eUS",
    "outputId": "77bb3c95-ea74-4ecc-c1ed-122ac1dd913d"
   },
   "outputs": [
    {
     "data": {
      "text/plain": [
       "tensor([[  0,   0,   0,   0,   0,   0,   0,   0,   0,   0,   0,   0,   0,   0,\n",
       "           0,   0,   0,   0,   0,   0,   0,   0,   0,   0,   0,   0,   0,   0],\n",
       "        [  0,   0,   0,   0,   0,   0,   0,   0,   0,   0,   0,   0,   0,   0,\n",
       "           0,   0,   0,   0,   0,   0,   0,   0,   0,   0,   0,   0,   0,   0],\n",
       "        [  0,   0,   0,   0,   0,   0,   0,   0,   0,   0,   0,   0,   0,   0,\n",
       "           0,   0,   0,   0,   0,   0,   0,   0,   0,   0,   0,   0,   0,   0],\n",
       "        [  0,   0,   0,   0,   0,   0,   0,   0,   0,   0,   0,   0,   0,   0,\n",
       "           0,   0,   0,   0,   0,   0,   0,   0,   0,   0,   0,   0,   0,   0],\n",
       "        [  0,   0,   0,   0,   0,   0,   0,   0,   0,   0,   0,   0,   0,   0,\n",
       "           0,   0,   0,   0,   0,   0,   0,   0,   0,   0,   0,   0,   0,   0],\n",
       "        [  0,   0,   0,   0,   0,   0,   0,   0,   0,   0,   0,   0,   3,  18,\n",
       "          18,  18, 126, 136, 175,  26, 166, 255, 247, 127,   0,   0,   0,   0],\n",
       "        [  0,   0,   0,   0,   0,   0,   0,   0,  30,  36,  94, 154, 170, 253,\n",
       "         253, 253, 253, 253, 225, 172, 253, 242, 195,  64,   0,   0,   0,   0],\n",
       "        [  0,   0,   0,   0,   0,   0,   0,  49, 238, 253, 253, 253, 253, 253,\n",
       "         253, 253, 253, 251,  93,  82,  82,  56,  39,   0,   0,   0,   0,   0],\n",
       "        [  0,   0,   0,   0,   0,   0,   0,  18, 219, 253, 253, 253, 253, 253,\n",
       "         198, 182, 247, 241,   0,   0,   0,   0,   0,   0,   0,   0,   0,   0],\n",
       "        [  0,   0,   0,   0,   0,   0,   0,   0,  80, 156, 107, 253, 253, 205,\n",
       "          11,   0,  43, 154,   0,   0,   0,   0,   0,   0,   0,   0,   0,   0],\n",
       "        [  0,   0,   0,   0,   0,   0,   0,   0,   0,  14,   1, 154, 253,  90,\n",
       "           0,   0,   0,   0,   0,   0,   0,   0,   0,   0,   0,   0,   0,   0],\n",
       "        [  0,   0,   0,   0,   0,   0,   0,   0,   0,   0,   0, 139, 253, 190,\n",
       "           2,   0,   0,   0,   0,   0,   0,   0,   0,   0,   0,   0,   0,   0],\n",
       "        [  0,   0,   0,   0,   0,   0,   0,   0,   0,   0,   0,  11, 190, 253,\n",
       "          70,   0,   0,   0,   0,   0,   0,   0,   0,   0,   0,   0,   0,   0],\n",
       "        [  0,   0,   0,   0,   0,   0,   0,   0,   0,   0,   0,   0,  35, 241,\n",
       "         225, 160, 108,   1,   0,   0,   0,   0,   0,   0,   0,   0,   0,   0],\n",
       "        [  0,   0,   0,   0,   0,   0,   0,   0,   0,   0,   0,   0,   0,  81,\n",
       "         240, 253, 253, 119,  25,   0,   0,   0,   0,   0,   0,   0,   0,   0],\n",
       "        [  0,   0,   0,   0,   0,   0,   0,   0,   0,   0,   0,   0,   0,   0,\n",
       "          45, 186, 253, 253, 150,  27,   0,   0,   0,   0,   0,   0,   0,   0],\n",
       "        [  0,   0,   0,   0,   0,   0,   0,   0,   0,   0,   0,   0,   0,   0,\n",
       "           0,  16,  93, 252, 253, 187,   0,   0,   0,   0,   0,   0,   0,   0],\n",
       "        [  0,   0,   0,   0,   0,   0,   0,   0,   0,   0,   0,   0,   0,   0,\n",
       "           0,   0,   0, 249, 253, 249,  64,   0,   0,   0,   0,   0,   0,   0],\n",
       "        [  0,   0,   0,   0,   0,   0,   0,   0,   0,   0,   0,   0,   0,   0,\n",
       "          46, 130, 183, 253, 253, 207,   2,   0,   0,   0,   0,   0,   0,   0],\n",
       "        [  0,   0,   0,   0,   0,   0,   0,   0,   0,   0,   0,   0,  39, 148,\n",
       "         229, 253, 253, 253, 250, 182,   0,   0,   0,   0,   0,   0,   0,   0],\n",
       "        [  0,   0,   0,   0,   0,   0,   0,   0,   0,   0,  24, 114, 221, 253,\n",
       "         253, 253, 253, 201,  78,   0,   0,   0,   0,   0,   0,   0,   0,   0],\n",
       "        [  0,   0,   0,   0,   0,   0,   0,   0,  23,  66, 213, 253, 253, 253,\n",
       "         253, 198,  81,   2,   0,   0,   0,   0,   0,   0,   0,   0,   0,   0],\n",
       "        [  0,   0,   0,   0,   0,   0,  18, 171, 219, 253, 253, 253, 253, 195,\n",
       "          80,   9,   0,   0,   0,   0,   0,   0,   0,   0,   0,   0,   0,   0],\n",
       "        [  0,   0,   0,   0,  55, 172, 226, 253, 253, 253, 253, 244, 133,  11,\n",
       "           0,   0,   0,   0,   0,   0,   0,   0,   0,   0,   0,   0,   0,   0],\n",
       "        [  0,   0,   0,   0, 136, 253, 253, 253, 212, 135, 132,  16,   0,   0,\n",
       "           0,   0,   0,   0,   0,   0,   0,   0,   0,   0,   0,   0,   0,   0],\n",
       "        [  0,   0,   0,   0,   0,   0,   0,   0,   0,   0,   0,   0,   0,   0,\n",
       "           0,   0,   0,   0,   0,   0,   0,   0,   0,   0,   0,   0,   0,   0],\n",
       "        [  0,   0,   0,   0,   0,   0,   0,   0,   0,   0,   0,   0,   0,   0,\n",
       "           0,   0,   0,   0,   0,   0,   0,   0,   0,   0,   0,   0,   0,   0],\n",
       "        [  0,   0,   0,   0,   0,   0,   0,   0,   0,   0,   0,   0,   0,   0,\n",
       "           0,   0,   0,   0,   0,   0,   0,   0,   0,   0,   0,   0,   0,   0]],\n",
       "       dtype=torch.uint8)"
      ]
     },
     "execution_count": 3,
     "metadata": {},
     "output_type": "execute_result"
    }
   ],
   "source": [
    "trainset.data[0]     #it will be shown in two rows, so a human has hard time classificating it"
   ]
  },
  {
   "cell_type": "code",
   "execution_count": 4,
   "id": "eNgiEB1V_hbV",
   "metadata": {
    "colab": {
     "base_uri": "https://localhost:8080/"
    },
    "id": "eNgiEB1V_hbV",
    "outputId": "652c4ac9-8b46-4d7a-9d3f-266b8cc37ba1"
   },
   "outputs": [
    {
     "data": {
      "text/plain": [
       "5"
      ]
     },
     "execution_count": 4,
     "metadata": {},
     "output_type": "execute_result"
    }
   ],
   "source": [
    "trainset[0][1]    #check if you classified it correctly in your mind"
   ]
  },
  {
   "cell_type": "markdown",
   "id": "5kvPHSvuAdDK",
   "metadata": {
    "id": "5kvPHSvuAdDK"
   },
   "source": [
    "# Rereading the MNIST Data (Serious Preparation for Training)\n",
    "------------------"
   ]
  },
  {
   "cell_type": "code",
   "execution_count": 5,
   "id": "Ar2Rzq7UAcjC",
   "metadata": {
    "colab": {
     "base_uri": "https://localhost:8080/"
    },
    "id": "Ar2Rzq7UAcjC",
    "outputId": "68f8f0f2-69c4-44d1-c770-2eac2b0e08f2"
   },
   "outputs": [
    {
     "data": {
      "text/plain": [
       "(np.float64(0.1306604762738429), np.float64(0.30810780385646264))"
      ]
     },
     "execution_count": 5,
     "metadata": {},
     "output_type": "execute_result"
    }
   ],
   "source": [
    "(trainset.data.numpy().mean()/255.0, trainset.data.numpy().std()/255.0)   #MNIST datapoints are RGB integers 0-255"
   ]
  },
  {
   "cell_type": "markdown",
   "id": "-waIu3OQXGx0",
   "metadata": {
    "id": "-waIu3OQXGx0"
   },
   "source": [
    "# Task\n",
    "---------------\n",
    "\n",
    "Why do we need to normalize the data, and not feed the NN with the 0-255 integers?"
   ]
  },
  {
   "cell_type": "code",
   "execution_count": 6,
   "id": "01dayZiEAk3C",
   "metadata": {
    "id": "01dayZiEAk3C"
   },
   "outputs": [],
   "source": [
    "transform = torchvision.transforms.Compose(\n",
    "    [ torchvision.transforms.ToTensor(), #Converts a PIL Image or numpy.ndarray (H x W x C) in the range [0, 255] to a torch.FloatTensor of shape (C x H x W) in the range [0.0, 1.0]\n",
    "      torchvision.transforms.Normalize((0.1307), (0.3081))])\n",
    "\n",
    "trainset = torchvision.datasets.MNIST(root='./data',\n",
    "                                      train=True,\n",
    "                                      download=True,\n",
    "                                      transform=transform)\n",
    "\n",
    "trainloader = torch.utils.data.DataLoader(trainset,\n",
    "                                          batch_size=2048,\n",
    "                                          shuffle=True)   #we do shuffle it to give more randomizations to training epochs\n",
    "\n",
    "testset = torchvision.datasets.MNIST(root='./data',\n",
    "                                     train=False,\n",
    "                                     download=True,\n",
    "                                     transform=transform)\n",
    "\n",
    "testloader = torch.utils.data.DataLoader(testset,\n",
    "                                         batch_size=1,\n",
    "                                         shuffle=False)"
   ]
  },
  {
   "cell_type": "markdown",
   "id": "dfqt0kUECnZB",
   "metadata": {
    "id": "dfqt0kUECnZB"
   },
   "source": [
    "## Visualizing Data\n"
   ]
  },
  {
   "cell_type": "markdown",
   "id": "fxGIwBKGCtFa",
   "metadata": {
    "id": "fxGIwBKGCtFa"
   },
   "source": [
    "### Labels (Ground Truth Outputs)"
   ]
  },
  {
   "cell_type": "code",
   "execution_count": 7,
   "id": "bzu3lJ2lCwFq",
   "metadata": {
    "colab": {
     "base_uri": "https://localhost:8080/"
    },
    "id": "bzu3lJ2lCwFq",
    "outputId": "a7616a56-a698-4f01-bdd0-dae88e7f5b86"
   },
   "outputs": [
    {
     "name": "stdout",
     "output_type": "stream",
     "text": [
      "0 -th batch labels : tensor([4, 8, 4,  ..., 0, 0, 4])\n",
      "1 -th batch labels : tensor([2, 4, 0,  ..., 8, 4, 8])\n",
      "2 -th batch labels : tensor([4, 2, 3,  ..., 3, 7, 5])\n",
      "3 -th batch labels : tensor([7, 8, 1,  ..., 3, 7, 2])\n",
      "4 -th batch labels : tensor([0, 3, 7,  ..., 3, 3, 1])\n"
     ]
    }
   ],
   "source": [
    "for i, data in enumerate(trainloader):\n",
    "        batch_inputs, batch_labels = data\n",
    "\n",
    "        if i<5:\n",
    "            print(i, \"-th batch labels :\", batch_labels)"
   ]
  },
  {
   "cell_type": "markdown",
   "id": "PebIPPfpC05T",
   "metadata": {
    "id": "PebIPPfpC05T"
   },
   "source": [
    "A single label is an entity of order zero (a constant), but batched labels are of order one. The first (and only) index is a sample index within a batch."
   ]
  },
  {
   "cell_type": "markdown",
   "id": "NLmKJ1FbC2qJ",
   "metadata": {
    "id": "NLmKJ1FbC2qJ"
   },
   "source": [
    "### Inputs"
   ]
  },
  {
   "cell_type": "code",
   "execution_count": 8,
   "id": "2jcRrNw_DQui",
   "metadata": {
    "colab": {
     "base_uri": "https://localhost:8080/"
    },
    "id": "2jcRrNw_DQui",
    "outputId": "2d9a5d12-72cd-4a38-a318-c36eb410d137"
   },
   "outputs": [
    {
     "name": "stdout",
     "output_type": "stream",
     "text": [
      "0 -th batch inputs : tensor([[[[-0.4242, -0.4242, -0.4242,  ..., -0.4242, -0.4242, -0.4242],\n",
      "          [-0.4242, -0.4242, -0.4242,  ..., -0.4242, -0.4242, -0.4242],\n",
      "          [-0.4242, -0.4242, -0.4242,  ..., -0.4242, -0.4242, -0.4242],\n",
      "          ...,\n",
      "          [-0.4242, -0.4242, -0.4242,  ..., -0.4242, -0.4242, -0.4242],\n",
      "          [-0.4242, -0.4242, -0.4242,  ..., -0.4242, -0.4242, -0.4242],\n",
      "          [-0.4242, -0.4242, -0.4242,  ..., -0.4242, -0.4242, -0.4242]]],\n",
      "\n",
      "\n",
      "        [[[-0.4242, -0.4242, -0.4242,  ..., -0.4242, -0.4242, -0.4242],\n",
      "          [-0.4242, -0.4242, -0.4242,  ..., -0.4242, -0.4242, -0.4242],\n",
      "          [-0.4242, -0.4242, -0.4242,  ..., -0.4242, -0.4242, -0.4242],\n",
      "          ...,\n",
      "          [-0.4242, -0.4242, -0.4242,  ..., -0.4242, -0.4242, -0.4242],\n",
      "          [-0.4242, -0.4242, -0.4242,  ..., -0.4242, -0.4242, -0.4242],\n",
      "          [-0.4242, -0.4242, -0.4242,  ..., -0.4242, -0.4242, -0.4242]]],\n",
      "\n",
      "\n",
      "        [[[-0.4242, -0.4242, -0.4242,  ..., -0.4242, -0.4242, -0.4242],\n",
      "          [-0.4242, -0.4242, -0.4242,  ..., -0.4242, -0.4242, -0.4242],\n",
      "          [-0.4242, -0.4242, -0.4242,  ..., -0.4242, -0.4242, -0.4242],\n",
      "          ...,\n",
      "          [-0.4242, -0.4242, -0.4242,  ..., -0.4242, -0.4242, -0.4242],\n",
      "          [-0.4242, -0.4242, -0.4242,  ..., -0.4242, -0.4242, -0.4242],\n",
      "          [-0.4242, -0.4242, -0.4242,  ..., -0.4242, -0.4242, -0.4242]]],\n",
      "\n",
      "\n",
      "        ...,\n",
      "\n",
      "\n",
      "        [[[-0.4242, -0.4242, -0.4242,  ..., -0.4242, -0.4242, -0.4242],\n",
      "          [-0.4242, -0.4242, -0.4242,  ..., -0.4242, -0.4242, -0.4242],\n",
      "          [-0.4242, -0.4242, -0.4242,  ..., -0.4242, -0.4242, -0.4242],\n",
      "          ...,\n",
      "          [-0.4242, -0.4242, -0.4242,  ..., -0.4242, -0.4242, -0.4242],\n",
      "          [-0.4242, -0.4242, -0.4242,  ..., -0.4242, -0.4242, -0.4242],\n",
      "          [-0.4242, -0.4242, -0.4242,  ..., -0.4242, -0.4242, -0.4242]]],\n",
      "\n",
      "\n",
      "        [[[-0.4242, -0.4242, -0.4242,  ..., -0.4242, -0.4242, -0.4242],\n",
      "          [-0.4242, -0.4242, -0.4242,  ..., -0.4242, -0.4242, -0.4242],\n",
      "          [-0.4242, -0.4242, -0.4242,  ..., -0.4242, -0.4242, -0.4242],\n",
      "          ...,\n",
      "          [-0.4242, -0.4242, -0.4242,  ..., -0.4242, -0.4242, -0.4242],\n",
      "          [-0.4242, -0.4242, -0.4242,  ..., -0.4242, -0.4242, -0.4242],\n",
      "          [-0.4242, -0.4242, -0.4242,  ..., -0.4242, -0.4242, -0.4242]]],\n",
      "\n",
      "\n",
      "        [[[-0.4242, -0.4242, -0.4242,  ..., -0.4242, -0.4242, -0.4242],\n",
      "          [-0.4242, -0.4242, -0.4242,  ..., -0.4242, -0.4242, -0.4242],\n",
      "          [-0.4242, -0.4242, -0.4242,  ..., -0.4242, -0.4242, -0.4242],\n",
      "          ...,\n",
      "          [-0.4242, -0.4242, -0.4242,  ..., -0.4242, -0.4242, -0.4242],\n",
      "          [-0.4242, -0.4242, -0.4242,  ..., -0.4242, -0.4242, -0.4242],\n",
      "          [-0.4242, -0.4242, -0.4242,  ..., -0.4242, -0.4242, -0.4242]]]])\n"
     ]
    }
   ],
   "source": [
    "for i, data in enumerate(trainloader):\n",
    "        batch_inputs, batch_labels = data\n",
    "\n",
    "        if i==0:\n",
    "            print(i, \"-th batch inputs :\", batch_inputs)"
   ]
  },
  {
   "cell_type": "markdown",
   "id": "YTcC3qH2DZOK",
   "metadata": {
    "id": "YTcC3qH2DZOK"
   },
   "source": [
    "OK, so each data image was initially a two dimensional image when we first saw it, but now the batches have order 4. The first index is a sample index within a batch, but a second index is always 0. This index represents a Channel number inserted here by `ToTensor()` transformation, always 0. As this order is one-dimensional, we can get rid of it, later, in training, in `Flatten` layer or by using `squeeze()` on a tensor."
   ]
  },
  {
   "cell_type": "markdown",
   "id": "ZX09I7rUDkei",
   "metadata": {
    "id": "ZX09I7rUDkei"
   },
   "source": [
    "# MLP Definition\n",
    "-----------------\n",
    "\n",
    "Your job now is to take the (fully functional) definition of the MLP structure and get rid off the Sequential layer.\n"
   ]
  },
  {
   "cell_type": "code",
   "execution_count": 9,
   "id": "_jaDXM9oDvrx",
   "metadata": {
    "id": "_jaDXM9oDvrx"
   },
   "outputs": [],
   "source": [
    "class MLP(torch.nn.Module):\n",
    "    def __init__(self):\n",
    "        super().__init__()\n",
    "        self.mlp = torch.nn.Sequential(   #Sequential is a structure which allows stacking layers one on another in such a way,\n",
    "                                          #that output from a preceding layer serves as input to the next layer\n",
    "            torch.nn.Flatten(),   #change the last three orders in data (with dimensions 1, 28 and 28 respectively) into one order of dimensions (1*28*28)\n",
    "            torch.nn.Linear(1*28*28, 1024),  #which is used as INPUT to the first Linear layer\n",
    "            torch.nn.ReLU(),\n",
    "            torch.nn.Linear(1024, 2048),   #IMPORTANT! Please observe, that the OUTPUT dimension of a preceding layer is always equal to the INPUT dimension of the next layer.\n",
    "            torch.nn.ReLU(),\n",
    "            torch.nn.Linear(2048, 256),\n",
    "            torch.nn.ReLU(),            #ReLU (or a Sigmoid if you want) is a nonlinear function which is used in-between layers\n",
    "            torch.nn.Linear(256, 10),\n",
    "        )\n",
    "        self.dropout = torch.nn.Dropout(0.05)\n",
    "\n",
    "    def forward(self, x):\n",
    "        x = self.mlp(x)\n",
    "        x = self.dropout(x)\n",
    "        return x"
   ]
  },
  {
   "cell_type": "markdown",
   "id": "fE5rN8UTFFw7",
   "metadata": {
    "id": "fE5rN8UTFFw7"
   },
   "source": [
    "# Training Loop\n",
    "----------------------"
   ]
  },
  {
   "cell_type": "code",
   "execution_count": 10,
   "id": "55Sda8Y5FIOh",
   "metadata": {
    "colab": {
     "base_uri": "https://localhost:8080/"
    },
    "id": "55Sda8Y5FIOh",
    "outputId": "3a6bba26-fbc4-4d7c-9765-57c93cd3c6d8"
   },
   "outputs": [
    {
     "name": "stdout",
     "output_type": "stream",
     "text": [
      "Working on cuda\n",
      "epoch: 0 batch: 0 current batch loss: 2.3029351234436035\n",
      "epoch: 0 batch: 1 current batch loss: 2.07623028755188\n",
      "epoch: 0 batch: 2 current batch loss: 1.602181077003479\n",
      "epoch: 0 batch: 3 current batch loss: 1.0692520141601562\n",
      "epoch: 0 batch: 4 current batch loss: 0.9160162806510925\n",
      "epoch: 0 batch: 5 current batch loss: 1.2607285976409912\n",
      "epoch: 0 batch: 6 current batch loss: 1.0266956090927124\n",
      "epoch: 0 batch: 7 current batch loss: 0.7301799058914185\n",
      "epoch: 0 batch: 8 current batch loss: 0.9679941534996033\n",
      "epoch: 0 batch: 9 current batch loss: 0.5944001078605652\n",
      "epoch: 0 batch: 10 current batch loss: 0.5503993034362793\n",
      "epoch: 0 batch: 11 current batch loss: 0.5401183366775513\n",
      "epoch: 0 batch: 12 current batch loss: 0.5690064430236816\n",
      "epoch: 0 batch: 13 current batch loss: 0.5267996191978455\n",
      "epoch: 0 batch: 14 current batch loss: 0.4406414330005646\n",
      "epoch: 0 batch: 15 current batch loss: 0.40220212936401367\n",
      "epoch: 0 batch: 16 current batch loss: 0.4184619188308716\n",
      "epoch: 0 batch: 17 current batch loss: 0.4695563316345215\n",
      "epoch: 0 batch: 18 current batch loss: 0.4256553053855896\n",
      "epoch: 0 batch: 19 current batch loss: 0.380233496427536\n",
      "epoch: 0 batch: 20 current batch loss: 0.41052892804145813\n",
      "epoch: 0 batch: 21 current batch loss: 0.36639001965522766\n",
      "epoch: 0 batch: 22 current batch loss: 0.36175537109375\n",
      "epoch: 0 batch: 23 current batch loss: 0.3094196915626526\n",
      "epoch: 0 batch: 24 current batch loss: 0.3175511658191681\n",
      "epoch: 0 batch: 25 current batch loss: 0.346913605928421\n",
      "epoch: 0 batch: 26 current batch loss: 0.3051895499229431\n",
      "epoch: 0 batch: 27 current batch loss: 0.2868872880935669\n",
      "epoch: 0 batch: 28 current batch loss: 0.26303356885910034\n",
      "epoch: 0 batch: 29 current batch loss: 0.3408665060997009\n",
      "epoch: 1 batch: 0 current batch loss: 0.2729967534542084\n",
      "epoch: 1 batch: 1 current batch loss: 0.2723272144794464\n",
      "epoch: 1 batch: 2 current batch loss: 0.2588370442390442\n",
      "epoch: 1 batch: 3 current batch loss: 0.27996838092803955\n",
      "epoch: 1 batch: 4 current batch loss: 0.23194441199302673\n",
      "epoch: 1 batch: 5 current batch loss: 0.2077285498380661\n",
      "epoch: 1 batch: 6 current batch loss: 0.22656388580799103\n",
      "epoch: 1 batch: 7 current batch loss: 0.23054353892803192\n",
      "epoch: 1 batch: 8 current batch loss: 0.2306596040725708\n",
      "epoch: 1 batch: 9 current batch loss: 0.1903761625289917\n",
      "epoch: 1 batch: 10 current batch loss: 0.2112348973751068\n",
      "epoch: 1 batch: 11 current batch loss: 0.1968984603881836\n",
      "epoch: 1 batch: 12 current batch loss: 0.20543107390403748\n",
      "epoch: 1 batch: 13 current batch loss: 0.21078699827194214\n",
      "epoch: 1 batch: 14 current batch loss: 0.19433477520942688\n",
      "epoch: 1 batch: 15 current batch loss: 0.1888597458600998\n",
      "epoch: 1 batch: 16 current batch loss: 0.2243678718805313\n",
      "epoch: 1 batch: 17 current batch loss: 0.17147476971149445\n",
      "epoch: 1 batch: 18 current batch loss: 0.21468093991279602\n",
      "epoch: 1 batch: 19 current batch loss: 0.2168801724910736\n",
      "epoch: 1 batch: 20 current batch loss: 0.17242473363876343\n",
      "epoch: 1 batch: 21 current batch loss: 0.18907472491264343\n",
      "epoch: 1 batch: 22 current batch loss: 0.17980073392391205\n",
      "epoch: 1 batch: 23 current batch loss: 0.12993913888931274\n",
      "epoch: 1 batch: 24 current batch loss: 0.15601830184459686\n",
      "epoch: 1 batch: 25 current batch loss: 0.1515335589647293\n",
      "epoch: 1 batch: 26 current batch loss: 0.15781435370445251\n",
      "epoch: 1 batch: 27 current batch loss: 0.1674073487520218\n",
      "epoch: 1 batch: 28 current batch loss: 0.16202375292778015\n",
      "epoch: 1 batch: 29 current batch loss: 0.15789592266082764\n",
      "epoch: 2 batch: 0 current batch loss: 0.14801082015037537\n",
      "epoch: 2 batch: 1 current batch loss: 0.16025473177433014\n",
      "epoch: 2 batch: 2 current batch loss: 0.11314639449119568\n",
      "epoch: 2 batch: 3 current batch loss: 0.15540042519569397\n",
      "epoch: 2 batch: 4 current batch loss: 0.12757614254951477\n",
      "epoch: 2 batch: 5 current batch loss: 0.1232510656118393\n",
      "epoch: 2 batch: 6 current batch loss: 0.14038307964801788\n",
      "epoch: 2 batch: 7 current batch loss: 0.12822791934013367\n",
      "epoch: 2 batch: 8 current batch loss: 0.12282214313745499\n",
      "epoch: 2 batch: 9 current batch loss: 0.13084566593170166\n",
      "epoch: 2 batch: 10 current batch loss: 0.13045305013656616\n",
      "epoch: 2 batch: 11 current batch loss: 0.16339737176895142\n",
      "epoch: 2 batch: 12 current batch loss: 0.12405270338058472\n",
      "epoch: 2 batch: 13 current batch loss: 0.11914937198162079\n",
      "epoch: 2 batch: 14 current batch loss: 0.12123870849609375\n",
      "epoch: 2 batch: 15 current batch loss: 0.12530316412448883\n",
      "epoch: 2 batch: 16 current batch loss: 0.11291425675153732\n",
      "epoch: 2 batch: 17 current batch loss: 0.1389414668083191\n",
      "epoch: 2 batch: 18 current batch loss: 0.12257234752178192\n",
      "epoch: 2 batch: 19 current batch loss: 0.11019539088010788\n",
      "epoch: 2 batch: 20 current batch loss: 0.1132350042462349\n",
      "epoch: 2 batch: 21 current batch loss: 0.1377497762441635\n",
      "epoch: 2 batch: 22 current batch loss: 0.12352343648672104\n",
      "epoch: 2 batch: 23 current batch loss: 0.10737261921167374\n",
      "epoch: 2 batch: 24 current batch loss: 0.15552476048469543\n",
      "epoch: 2 batch: 25 current batch loss: 0.11447682976722717\n",
      "epoch: 2 batch: 26 current batch loss: 0.14486640691757202\n",
      "epoch: 2 batch: 27 current batch loss: 0.12785398960113525\n",
      "epoch: 2 batch: 28 current batch loss: 0.11148061603307724\n",
      "epoch: 2 batch: 29 current batch loss: 0.11845824867486954\n",
      "epoch: 3 batch: 0 current batch loss: 0.10036428272724152\n",
      "epoch: 3 batch: 1 current batch loss: 0.0951172336935997\n",
      "epoch: 3 batch: 2 current batch loss: 0.10552572458982468\n",
      "epoch: 3 batch: 3 current batch loss: 0.10307738184928894\n",
      "epoch: 3 batch: 4 current batch loss: 0.11689776927232742\n",
      "epoch: 3 batch: 5 current batch loss: 0.11608891189098358\n",
      "epoch: 3 batch: 6 current batch loss: 0.0995517298579216\n",
      "epoch: 3 batch: 7 current batch loss: 0.08843472599983215\n",
      "epoch: 3 batch: 8 current batch loss: 0.08860979974269867\n",
      "epoch: 3 batch: 9 current batch loss: 0.11842312663793564\n",
      "epoch: 3 batch: 10 current batch loss: 0.10551591217517853\n",
      "epoch: 3 batch: 11 current batch loss: 0.09199746698141098\n",
      "epoch: 3 batch: 12 current batch loss: 0.10102368891239166\n",
      "epoch: 3 batch: 13 current batch loss: 0.09580972045660019\n",
      "epoch: 3 batch: 14 current batch loss: 0.09018027782440186\n",
      "epoch: 3 batch: 15 current batch loss: 0.08874382078647614\n",
      "epoch: 3 batch: 16 current batch loss: 0.08506050705909729\n",
      "epoch: 3 batch: 17 current batch loss: 0.11693480610847473\n",
      "epoch: 3 batch: 18 current batch loss: 0.07995226979255676\n",
      "epoch: 3 batch: 19 current batch loss: 0.09036713093519211\n",
      "epoch: 3 batch: 20 current batch loss: 0.08647063374519348\n",
      "epoch: 3 batch: 21 current batch loss: 0.08678361773490906\n",
      "epoch: 3 batch: 22 current batch loss: 0.10163053125143051\n",
      "epoch: 3 batch: 23 current batch loss: 0.0821375697851181\n",
      "epoch: 3 batch: 24 current batch loss: 0.0911249965429306\n",
      "epoch: 3 batch: 25 current batch loss: 0.10265081375837326\n",
      "epoch: 3 batch: 26 current batch loss: 0.10700762271881104\n",
      "epoch: 3 batch: 27 current batch loss: 0.08936110138893127\n",
      "epoch: 3 batch: 28 current batch loss: 0.10169829428195953\n",
      "epoch: 3 batch: 29 current batch loss: 0.04982588812708855\n",
      "epoch: 4 batch: 0 current batch loss: 0.0685427337884903\n",
      "epoch: 4 batch: 1 current batch loss: 0.07468263059854507\n",
      "epoch: 4 batch: 2 current batch loss: 0.06729559600353241\n",
      "epoch: 4 batch: 3 current batch loss: 0.06731376051902771\n",
      "epoch: 4 batch: 4 current batch loss: 0.07783738523721695\n",
      "epoch: 4 batch: 5 current batch loss: 0.07052572071552277\n",
      "epoch: 4 batch: 6 current batch loss: 0.08454591780900955\n",
      "epoch: 4 batch: 7 current batch loss: 0.0568552166223526\n",
      "epoch: 4 batch: 8 current batch loss: 0.060587238520383835\n",
      "epoch: 4 batch: 9 current batch loss: 0.07425298541784286\n",
      "epoch: 4 batch: 10 current batch loss: 0.06656008958816528\n",
      "epoch: 4 batch: 11 current batch loss: 0.06411486864089966\n",
      "epoch: 4 batch: 12 current batch loss: 0.07355687022209167\n",
      "epoch: 4 batch: 13 current batch loss: 0.062261082231998444\n",
      "epoch: 4 batch: 14 current batch loss: 0.059150248765945435\n",
      "epoch: 4 batch: 15 current batch loss: 0.07504627853631973\n",
      "epoch: 4 batch: 16 current batch loss: 0.08528931438922882\n",
      "epoch: 4 batch: 17 current batch loss: 0.06135298311710358\n",
      "epoch: 4 batch: 18 current batch loss: 0.06633738428354263\n",
      "epoch: 4 batch: 19 current batch loss: 0.054254885762929916\n",
      "epoch: 4 batch: 20 current batch loss: 0.07623445242643356\n",
      "epoch: 4 batch: 21 current batch loss: 0.08958208560943604\n",
      "epoch: 4 batch: 22 current batch loss: 0.08014421910047531\n",
      "epoch: 4 batch: 23 current batch loss: 0.07130375504493713\n",
      "epoch: 4 batch: 24 current batch loss: 0.06561702489852905\n",
      "epoch: 4 batch: 25 current batch loss: 0.07160407304763794\n",
      "epoch: 4 batch: 26 current batch loss: 0.07037573307752609\n",
      "epoch: 4 batch: 27 current batch loss: 0.051761988550424576\n",
      "epoch: 4 batch: 28 current batch loss: 0.07124291360378265\n",
      "epoch: 4 batch: 29 current batch loss: 0.06692811101675034\n",
      "epoch: 5 batch: 0 current batch loss: 0.06565802544355392\n",
      "epoch: 5 batch: 1 current batch loss: 0.058766867965459824\n",
      "epoch: 5 batch: 2 current batch loss: 0.06160479038953781\n",
      "epoch: 5 batch: 3 current batch loss: 0.05883548781275749\n",
      "epoch: 5 batch: 4 current batch loss: 0.04546825587749481\n",
      "epoch: 5 batch: 5 current batch loss: 0.06788289546966553\n",
      "epoch: 5 batch: 6 current batch loss: 0.056480854749679565\n",
      "epoch: 5 batch: 7 current batch loss: 0.07437773048877716\n",
      "epoch: 5 batch: 8 current batch loss: 0.06637437641620636\n",
      "epoch: 5 batch: 9 current batch loss: 0.06399528682231903\n",
      "epoch: 5 batch: 10 current batch loss: 0.05798572301864624\n",
      "epoch: 5 batch: 11 current batch loss: 0.05507221445441246\n",
      "epoch: 5 batch: 12 current batch loss: 0.05869215354323387\n",
      "epoch: 5 batch: 13 current batch loss: 0.05600515007972717\n",
      "epoch: 5 batch: 14 current batch loss: 0.04200273007154465\n",
      "epoch: 5 batch: 15 current batch loss: 0.061583153903484344\n",
      "epoch: 5 batch: 16 current batch loss: 0.07412347942590714\n",
      "epoch: 5 batch: 17 current batch loss: 0.04843075945973396\n",
      "epoch: 5 batch: 18 current batch loss: 0.06391996890306473\n",
      "epoch: 5 batch: 19 current batch loss: 0.04923505336046219\n",
      "epoch: 5 batch: 20 current batch loss: 0.04641897231340408\n",
      "epoch: 5 batch: 21 current batch loss: 0.05496957525610924\n",
      "epoch: 5 batch: 22 current batch loss: 0.05781847611069679\n",
      "epoch: 5 batch: 23 current batch loss: 0.05360953509807587\n",
      "epoch: 5 batch: 24 current batch loss: 0.06040562316775322\n",
      "epoch: 5 batch: 25 current batch loss: 0.06048289313912392\n",
      "epoch: 5 batch: 26 current batch loss: 0.05260004475712776\n",
      "epoch: 5 batch: 27 current batch loss: 0.060842759907245636\n",
      "epoch: 5 batch: 28 current batch loss: 0.04761296510696411\n",
      "epoch: 5 batch: 29 current batch loss: 0.056554969400167465\n",
      "epoch: 6 batch: 0 current batch loss: 0.05036816745996475\n",
      "epoch: 6 batch: 1 current batch loss: 0.047377005219459534\n",
      "epoch: 6 batch: 2 current batch loss: 0.05704495683312416\n",
      "epoch: 6 batch: 3 current batch loss: 0.04626324027776718\n",
      "epoch: 6 batch: 4 current batch loss: 0.04160803183913231\n",
      "epoch: 6 batch: 5 current batch loss: 0.0507347472012043\n",
      "epoch: 6 batch: 6 current batch loss: 0.045661505311727524\n",
      "epoch: 6 batch: 7 current batch loss: 0.049014266580343246\n",
      "epoch: 6 batch: 8 current batch loss: 0.04093144088983536\n",
      "epoch: 6 batch: 9 current batch loss: 0.034168168902397156\n",
      "epoch: 6 batch: 10 current batch loss: 0.052588336169719696\n",
      "epoch: 6 batch: 11 current batch loss: 0.05735234171152115\n",
      "epoch: 6 batch: 12 current batch loss: 0.05801331251859665\n",
      "epoch: 6 batch: 13 current batch loss: 0.05016995221376419\n",
      "epoch: 6 batch: 14 current batch loss: 0.039276815950870514\n",
      "epoch: 6 batch: 15 current batch loss: 0.051945459097623825\n",
      "epoch: 6 batch: 16 current batch loss: 0.045851293951272964\n",
      "epoch: 6 batch: 17 current batch loss: 0.060033366084098816\n",
      "epoch: 6 batch: 18 current batch loss: 0.040500737726688385\n",
      "epoch: 6 batch: 19 current batch loss: 0.040550995618104935\n",
      "epoch: 6 batch: 20 current batch loss: 0.03687437251210213\n",
      "epoch: 6 batch: 21 current batch loss: 0.04030504822731018\n",
      "epoch: 6 batch: 22 current batch loss: 0.045097559690475464\n",
      "epoch: 6 batch: 23 current batch loss: 0.04205002635717392\n",
      "epoch: 6 batch: 24 current batch loss: 0.03144972398877144\n",
      "epoch: 6 batch: 25 current batch loss: 0.04815306141972542\n",
      "epoch: 6 batch: 26 current batch loss: 0.04107951372861862\n",
      "epoch: 6 batch: 27 current batch loss: 0.044853150844573975\n",
      "epoch: 6 batch: 28 current batch loss: 0.049550507217645645\n",
      "epoch: 6 batch: 29 current batch loss: 0.07134531438350677\n",
      "epoch: 7 batch: 0 current batch loss: 0.044160064309835434\n",
      "epoch: 7 batch: 1 current batch loss: 0.037954676896333694\n",
      "epoch: 7 batch: 2 current batch loss: 0.04057689383625984\n",
      "epoch: 7 batch: 3 current batch loss: 0.03204338997602463\n",
      "epoch: 7 batch: 4 current batch loss: 0.039513833820819855\n",
      "epoch: 7 batch: 5 current batch loss: 0.04121645912528038\n",
      "epoch: 7 batch: 6 current batch loss: 0.031591255217790604\n",
      "epoch: 7 batch: 7 current batch loss: 0.03789447993040085\n",
      "epoch: 7 batch: 8 current batch loss: 0.033357273787260056\n",
      "epoch: 7 batch: 9 current batch loss: 0.029263218864798546\n",
      "epoch: 7 batch: 10 current batch loss: 0.035152435302734375\n",
      "epoch: 7 batch: 11 current batch loss: 0.032587189227342606\n",
      "epoch: 7 batch: 12 current batch loss: 0.03293037414550781\n",
      "epoch: 7 batch: 13 current batch loss: 0.038858965039253235\n",
      "epoch: 7 batch: 14 current batch loss: 0.03488472104072571\n",
      "epoch: 7 batch: 15 current batch loss: 0.0416385717689991\n",
      "epoch: 7 batch: 16 current batch loss: 0.03992762044072151\n",
      "epoch: 7 batch: 17 current batch loss: 0.02843748964369297\n",
      "epoch: 7 batch: 18 current batch loss: 0.03233911097049713\n",
      "epoch: 7 batch: 19 current batch loss: 0.028438091278076172\n",
      "epoch: 7 batch: 20 current batch loss: 0.035240210592746735\n",
      "epoch: 7 batch: 21 current batch loss: 0.03493789583444595\n",
      "epoch: 7 batch: 22 current batch loss: 0.032212261110544205\n",
      "epoch: 7 batch: 23 current batch loss: 0.0427129790186882\n",
      "epoch: 7 batch: 24 current batch loss: 0.04648326337337494\n",
      "epoch: 7 batch: 25 current batch loss: 0.03307576850056648\n",
      "epoch: 7 batch: 26 current batch loss: 0.02718961425125599\n",
      "epoch: 7 batch: 27 current batch loss: 0.0392877496778965\n",
      "epoch: 7 batch: 28 current batch loss: 0.04356008768081665\n",
      "epoch: 7 batch: 29 current batch loss: 0.05912702903151512\n"
     ]
    }
   ],
   "source": [
    "# Check if GPU is available\n",
    "device = torch.device(\"cuda\" if torch.cuda.is_available() else \"cpu\")\n",
    "print(f\"Working on {device}\")\n",
    "\n",
    "net = MLP().to(device)\n",
    "optimizer = torch.optim.Adam(net.parameters(), 0.001)   #initial and fixed learning rate of 0.001.\n",
    "\n",
    "net.train()    #it notifies the network layers (especially batchnorm or dropout layers, which we don't use in this example) that we are doing traning\n",
    "for epoch in range(8):  #  an epoch is a training run through the whole data set\n",
    "\n",
    "    for batch, data in enumerate(trainloader):\n",
    "        batch_inputs, batch_labels = data\n",
    "\n",
    "        batch_inputs = batch_inputs.to(device)  #explicitly moving the data to the target device\n",
    "        batch_labels = batch_labels.to(device)\n",
    "\n",
    "        #batch_inputs.squeeze(1)     #alternatively if not for a Flatten layer, squeeze() could be used to remove the second order of the tensor, the Channel, which is one-dimensional (this index can be equal to 0 only)\n",
    "\n",
    "        optimizer.zero_grad()\n",
    "\n",
    "        batch_outputs = net(batch_inputs)   #this line calls the forward(self, x) method of the MLP object. Please note, that the last layer of the MLP is linear\n",
    "                                            #and MLP doesn't apply\n",
    "                                            #the nonlinear activation after the last layer\n",
    "        loss = torch.nn.functional.cross_entropy(batch_outputs, batch_labels, reduction = \"mean\") #instead, nonlinear softmax is applied internally in THIS loss function\n",
    "        print(\"epoch:\", epoch, \"batch:\", batch, \"current batch loss:\", loss.item())\n",
    "        loss.backward()       #this computes gradients as we have seen in previous workshops\n",
    "        optimizer.step()     #but this line in fact updates our neural network.\n",
    "                                ####You can experiment - comment this line and check, that the loss DOE"
   ]
  },
  {
   "cell_type": "markdown",
   "id": "sTe6ViIsHUbV",
   "metadata": {
    "id": "sTe6ViIsHUbV"
   },
   "source": [
    "# Testing\n",
    "----------------------\n",
    "\n",
    "Correct the code below so it works."
   ]
  },
  {
   "cell_type": "code",
   "execution_count": 83,
   "id": "jcPek-rrHYMi",
   "metadata": {
    "id": "jcPek-rrHYMi"
   },
   "outputs": [
    {
     "name": "stdout",
     "output_type": "stream",
     "text": [
      "accuracy =  0.9809\n",
      "[tensor([[[[-0.4242, -0.4242, -0.4242, -0.4242, -0.4242, -0.4242, -0.4242,\n",
      "           -0.4242, -0.4242, -0.4242, -0.4242, -0.4242, -0.4242, -0.4242,\n",
      "           -0.4242, -0.4242, -0.4242, -0.4242, -0.4242, -0.4242, -0.4242,\n",
      "           -0.4242, -0.4242, -0.4242, -0.4242, -0.4242, -0.4242, -0.4242],\n",
      "          [-0.4242, -0.4242, -0.4242, -0.4242, -0.4242, -0.4242, -0.4242,\n",
      "           -0.4242, -0.4242, -0.4242, -0.4242, -0.4242, -0.4242, -0.4242,\n",
      "           -0.4242, -0.4242, -0.4242, -0.4242, -0.4242, -0.4242, -0.4242,\n",
      "           -0.4242, -0.4242, -0.4242, -0.4242, -0.4242, -0.4242, -0.4242],\n",
      "          [-0.4242, -0.4242, -0.4242, -0.4242, -0.4242, -0.4242, -0.4242,\n",
      "           -0.4242, -0.4242, -0.4242, -0.4242, -0.4242, -0.4242, -0.4242,\n",
      "           -0.4242, -0.4242, -0.4242, -0.3224,  1.0650,  2.8088,  2.3760,\n",
      "            0.7086, -0.4242, -0.4242, -0.4242, -0.4242, -0.4242, -0.4242],\n",
      "          [-0.4242, -0.4242, -0.4242, -0.4242, -0.4242, -0.4242, -0.4242,\n",
      "           -0.4242, -0.4242, -0.4242, -0.4242, -0.4242, -0.4242, -0.4242,\n",
      "           -0.4242, -0.2587,  0.7850,  2.2742,  2.7960,  2.7960,  2.7960,\n",
      "            1.5741, -0.4242, -0.4242, -0.4242, -0.4242, -0.4242, -0.4242],\n",
      "          [-0.4242, -0.4242, -0.4242, -0.4242, -0.4242, -0.4242, -0.4242,\n",
      "           -0.4242, -0.4242, -0.4242, -0.4242, -0.4242, -0.4242, -0.2206,\n",
      "            0.7850,  2.2360,  2.7960,  2.7960,  2.7960,  2.6942,  1.1668,\n",
      "           -0.1951, -0.4242, -0.4242, -0.4242, -0.4242, -0.4242, -0.4242],\n",
      "          [-0.4242, -0.4242, -0.4242, -0.4242, -0.4242, -0.4242, -0.4242,\n",
      "           -0.4242, -0.4242, -0.4242, -0.4242,  0.0849,  0.7977,  2.1978,\n",
      "            2.7960,  2.8088,  2.7960,  2.7960,  2.0960,  0.3904, -0.4242,\n",
      "           -0.4242, -0.4242, -0.4242, -0.4242, -0.4242, -0.4242, -0.4242],\n",
      "          [-0.4242, -0.4242, -0.4242, -0.4242, -0.4242, -0.4242, -0.4242,\n",
      "           -0.4242, -0.4242,  0.1358,  1.8923,  2.6306,  2.7960,  2.7960,\n",
      "            2.7960,  2.8088,  2.7960,  2.0960, -0.1187, -0.4242, -0.4242,\n",
      "           -0.4242, -0.4242, -0.4242, -0.4242, -0.4242, -0.4242, -0.4242],\n",
      "          [-0.4242, -0.4242, -0.4242, -0.4242, -0.4242, -0.4242, -0.4242,\n",
      "           -0.4242, -0.4242, -0.2333,  0.3395,  0.3395,  1.7141,  2.7960,\n",
      "            2.7960,  2.8088,  2.1214, -0.1315, -0.4242, -0.4242, -0.4242,\n",
      "           -0.4242, -0.4242, -0.4242, -0.4242, -0.4242, -0.4242, -0.4242],\n",
      "          [-0.4242, -0.4242, -0.4242, -0.4242, -0.4242, -0.4242, -0.4242,\n",
      "           -0.4242, -0.4242, -0.4242, -0.4242,  0.4668,  2.7197,  2.7960,\n",
      "            2.7960,  2.6942, -0.1569, -0.4242, -0.4242, -0.4242, -0.4242,\n",
      "           -0.4242, -0.4242, -0.4242, -0.4242, -0.4242, -0.4242, -0.4242],\n",
      "          [-0.4242, -0.4242, -0.4242, -0.4242, -0.4242, -0.4242, -0.4242,\n",
      "           -0.4242, -0.4242, -0.4242,  0.5304,  2.2105,  2.7960,  2.7960,\n",
      "            2.2105,  0.7468, -0.4242, -0.4242, -0.4242, -0.4242, -0.4242,\n",
      "           -0.4242, -0.4242, -0.4242, -0.4242, -0.4242, -0.4242, -0.4242],\n",
      "          [-0.4242, -0.4242, -0.4242, -0.4242, -0.4242, -0.4242, -0.4242,\n",
      "           -0.4242, -0.4242,  0.5813,  2.3633,  2.7960,  2.7960,  2.7960,\n",
      "            1.3323, -0.4242, -0.4242, -0.4242, -0.4242, -0.4242, -0.4242,\n",
      "           -0.4242, -0.4242, -0.4242, -0.4242, -0.4242, -0.4242, -0.4242],\n",
      "          [-0.4242, -0.4242, -0.4242, -0.4242, -0.4242, -0.4242, -0.4242,\n",
      "           -0.4242,  0.9123,  2.7578,  2.7960,  2.7960,  2.7960,  0.0085,\n",
      "           -0.4115, -0.4242, -0.4242, -0.4242, -0.4242, -0.4242, -0.4242,\n",
      "           -0.4242, -0.4242, -0.4242, -0.4242, -0.4242, -0.4242, -0.4242],\n",
      "          [-0.4242, -0.4242, -0.4242, -0.4242, -0.4242, -0.4242, -0.4242,\n",
      "            0.7850,  2.8088,  2.8088,  2.8088,  2.8088,  0.7722, -0.4242,\n",
      "           -0.4242, -0.4242, -0.4242, -0.4242, -0.3860, -0.2587, -0.2587,\n",
      "           -0.2587, -0.3224, -0.4242, -0.4242, -0.4242, -0.4242, -0.4242],\n",
      "          [-0.4242, -0.4242, -0.4242, -0.4242, -0.4242, -0.4242, -0.4242,\n",
      "            0.9377,  2.7960,  2.7960,  2.7960,  2.1723, -0.2333, -0.4242,\n",
      "           -0.4242, -0.4242, -0.4242, -0.1569,  1.6887,  2.7960,  2.7960,\n",
      "            2.7960,  2.2742, -0.1060, -0.4242, -0.4242, -0.4242, -0.4242],\n",
      "          [-0.4242, -0.4242, -0.4242, -0.4242, -0.4242, -0.4242, -0.0042,\n",
      "            2.3378,  2.7960,  2.7960,  1.2559,  0.3904, -0.4242, -0.4242,\n",
      "           -0.1951,  0.1231,  1.5741,  1.7523,  2.7960,  2.7960,  2.7960,\n",
      "            2.7960,  2.7960,  1.6123, -0.3988, -0.4242, -0.4242, -0.4242],\n",
      "          [-0.4242, -0.4242, -0.4242, -0.4242, -0.4242, -0.3860,  1.6887,\n",
      "            2.7960,  2.7960,  2.6560,  0.1995, -0.2078,  0.1995,  1.5868,\n",
      "            2.2487,  2.8088,  2.7960,  2.7960,  2.7960,  2.7960,  2.7960,\n",
      "            2.7960,  2.7960,  2.7960, -0.2842, -0.4242, -0.4242, -0.4242],\n",
      "          [-0.4242, -0.4242, -0.4242, -0.4242, -0.4242, -0.2969,  2.4651,\n",
      "            2.7960,  2.7960,  2.2105, -0.2333,  1.7650,  2.7960,  2.7960,\n",
      "            2.7960,  2.8088,  2.7197,  2.1342,  2.7960,  2.2487,  2.2487,\n",
      "            2.7960,  2.7960,  1.8032, -0.3733, -0.4242, -0.4242, -0.4242],\n",
      "          [-0.4242, -0.4242, -0.4242, -0.4242, -0.4242, -0.2969,  2.4778,\n",
      "            2.7960,  2.7960,  2.4269,  0.6831,  2.6560,  2.7960,  2.7960,\n",
      "            1.9178,  0.3395,  0.2631, -0.3097,  0.3395,  0.0213,  1.8923,\n",
      "            2.7960,  2.7960,  0.2377, -0.4242, -0.4242, -0.4242, -0.4242],\n",
      "          [-0.4242, -0.4242, -0.4242, -0.4242, -0.4242, -0.2587,  2.7960,\n",
      "            2.7960,  2.7960,  2.7960,  2.5160,  2.7960,  2.7960,  2.7960,\n",
      "            0.7595,  0.6704,  0.6704,  0.6704,  0.9632,  2.3378,  2.7960,\n",
      "            2.7960,  1.2814, -0.3606, -0.4242, -0.4242, -0.4242, -0.4242],\n",
      "          [-0.4242, -0.4242, -0.4242, -0.4242, -0.4242, -0.3988,  1.0395,\n",
      "            2.7960,  2.7960,  2.7960,  2.7960,  2.7960,  2.7960,  2.7960,\n",
      "            2.7960,  2.8088,  2.7960,  2.7960,  2.7960,  2.7960,  2.7960,\n",
      "            1.2814, -0.3606, -0.4242, -0.4242, -0.4242, -0.4242, -0.4242],\n",
      "          [-0.4242, -0.4242, -0.4242, -0.4242, -0.4242, -0.4242, -0.3860,\n",
      "            1.6887,  2.7960,  2.7960,  2.7960,  2.7960,  2.7960,  2.7960,\n",
      "            2.7960,  2.8088,  2.7960,  2.7960,  2.7960,  1.8032,  0.2377,\n",
      "           -0.3606, -0.4242, -0.4242, -0.4242, -0.4242, -0.4242, -0.4242],\n",
      "          [-0.4242, -0.4242, -0.4242, -0.4242, -0.4242, -0.4242, -0.4242,\n",
      "           -0.3351,  0.0213,  1.2559,  2.4396,  2.7960,  2.7960,  2.7960,\n",
      "            2.0578,  1.2559,  1.2559,  1.2559,  0.9759, -0.3733, -0.4242,\n",
      "           -0.4242, -0.4242, -0.4242, -0.4242, -0.4242, -0.4242, -0.4242],\n",
      "          [-0.4242, -0.4242, -0.4242, -0.4242, -0.4242, -0.4242, -0.4242,\n",
      "           -0.4242, -0.4242, -0.4242, -0.4242, -0.4242, -0.4242, -0.4242,\n",
      "           -0.4242, -0.4242, -0.4242, -0.4242, -0.4242, -0.4242, -0.4242,\n",
      "           -0.4242, -0.4242, -0.4242, -0.4242, -0.4242, -0.4242, -0.4242],\n",
      "          [-0.4242, -0.4242, -0.4242, -0.4242, -0.4242, -0.4242, -0.4242,\n",
      "           -0.4242, -0.4242, -0.4242, -0.4242, -0.4242, -0.4242, -0.4242,\n",
      "           -0.4242, -0.4242, -0.4242, -0.4242, -0.4242, -0.4242, -0.4242,\n",
      "           -0.4242, -0.4242, -0.4242, -0.4242, -0.4242, -0.4242, -0.4242],\n",
      "          [-0.4242, -0.4242, -0.4242, -0.4242, -0.4242, -0.4242, -0.4242,\n",
      "           -0.4242, -0.4242, -0.4242, -0.4242, -0.4242, -0.4242, -0.4242,\n",
      "           -0.4242, -0.4242, -0.4242, -0.4242, -0.4242, -0.4242, -0.4242,\n",
      "           -0.4242, -0.4242, -0.4242, -0.4242, -0.4242, -0.4242, -0.4242],\n",
      "          [-0.4242, -0.4242, -0.4242, -0.4242, -0.4242, -0.4242, -0.4242,\n",
      "           -0.4242, -0.4242, -0.4242, -0.4242, -0.4242, -0.4242, -0.4242,\n",
      "           -0.4242, -0.4242, -0.4242, -0.4242, -0.4242, -0.4242, -0.4242,\n",
      "           -0.4242, -0.4242, -0.4242, -0.4242, -0.4242, -0.4242, -0.4242],\n",
      "          [-0.4242, -0.4242, -0.4242, -0.4242, -0.4242, -0.4242, -0.4242,\n",
      "           -0.4242, -0.4242, -0.4242, -0.4242, -0.4242, -0.4242, -0.4242,\n",
      "           -0.4242, -0.4242, -0.4242, -0.4242, -0.4242, -0.4242, -0.4242,\n",
      "           -0.4242, -0.4242, -0.4242, -0.4242, -0.4242, -0.4242, -0.4242],\n",
      "          [-0.4242, -0.4242, -0.4242, -0.4242, -0.4242, -0.4242, -0.4242,\n",
      "           -0.4242, -0.4242, -0.4242, -0.4242, -0.4242, -0.4242, -0.4242,\n",
      "           -0.4242, -0.4242, -0.4242, -0.4242, -0.4242, -0.4242, -0.4242,\n",
      "           -0.4242, -0.4242, -0.4242, -0.4242, -0.4242, -0.4242, -0.4242]]]]), tensor([6])]\n"
     ]
    }
   ],
   "source": [
    "good = 0\n",
    "wrong = 0\n",
    "\n",
    "net.eval()              #it notifies the network layers (especially batchnorm or dropout layers, which we don't use in this example) that we are doing evaluation\n",
    "with torch.no_grad():   #it prevents that the net learns during evalution. The gradients are not computed, so this makes it faster, too\n",
    "    for batch, data in enumerate(testloader): #batches in test are of size 1\n",
    "        datapoint, label = data\n",
    "\n",
    "        prediction = net(datapoint.to(device))                  #prediction has values representing the \"prevalence\" of the corresponding class\n",
    "        classification = torch.argmax(prediction)    #the class is the index of maximal \"prevalence\"\n",
    "\n",
    "        if classification.item() == label.item():\n",
    "            good += 1\n",
    "        else:\n",
    "            wrong += 1\n",
    "\n",
    "print(\"accuracy = \", good/(good+wrong))"
   ]
  },
  {
   "cell_type": "markdown",
   "id": "ZJ5c7P6ChB3e",
   "metadata": {
    "id": "ZJ5c7P6ChB3e"
   },
   "source": [
    "# **Homework Assignment - *Do Androids Dream of Electric Sheep?***\n",
    "\n",
    "-------------------------------------  \n",
    "\n",
    "\"Do Androids Dream of Electric Sheep?\" – the famous title of Philip K. Dick’s novel – raises a fascinating question: if artificial intelligence could dream, what would it see?  \n",
    "\n",
    "In this assignment, we explore a phenomenon known as **neural network dreams**, where instead of optimizing a neural network's weights, we **optimize the input itself** to achieve a desired classification outcome. Given a fully trained MNIST classification network, your goal is to manipulate its inputs so that it confidently predicts each digit from 0 to 9, starting from pure noise.  \n",
    "\n",
    "## **Tasks Description**  \n",
    "\n",
    "During this class we designed and trained a **MNIST classification neural network**, which takes a **batch of grayscale images** of size **$28 \\times 28$** as input and outputs a probability distribution over the 10 digit classes (0–9). However, instead of using real MNIST images, you will **treat the input batch itself as a set of trainable parameters** and optimize it so that the network classifies each image as a specific digit.  \n",
    "\n",
    "1. Your first task is to generate **a batch of 10 images**, where each image is\n",
    "   classified as one of the digits **0, 1, 2, ..., 9**, starting from an initial batch of ten random Gaussian noise images.  \n",
    "\n",
    "   Discuss the following question: do the generated images resemble real MNIST digits? Why or why not?  \n",
    "\n",
    "2. Discuss, how you would approach a second task of\n",
    "   generating an image that   \n",
    "   bares similarity to two or more digits simultaneously. **Implement your idea to see the results.**\n",
    "\n",
    "3. Third task: repeat the previous tasks with an additional L2 penalty on noise within the images. Experiment with adding `lambda_l2 * dreamed_input_batch.pow(2).mean()` loss term, with `lambda_l2` being the penalty cooefficient within an exponential progression, say from 0.001 to 10.0. Are the new digits recognized correctly? How does the penalty impact the digit quality? Explain.\n",
    "\n",
    "### **Optimization Process for Task 1**  \n",
    "\n",
    "1. Start with a **batch of 10 random Gaussian noise images** as the initial input and $(0, 1, 2, \\ldots, 9)$ as the expected output batch of target digits.  \n",
    "2. Define the objective: maximize the neural network's confidence for the corresponding target digit for each image in the batch.  \n",
    "3. Use **gradient descent** to modify the pixels in each image, making the network classify each one as the assigned digit.  \n",
    "4. Repeat until the network assigns suffieciently high confidence to each image’s target class.  \n",
    "\n",
    "### **Implementation Details**  \n",
    "\n",
    "- The neural network weights **must remain frozen** during optimization. You are modifying only the input images.  \n",
    "- The loss function should be the **cross-entropy loss** between the predicted probabilities and the desired class labels (plus an optional weighted L2 penalty regularizing the images in task 3).\n",
    "\n",
    "\n",
    "## **Points to Note**  \n",
    "\n",
    "1. **Visualize** the optimization process: Save images of the generated inputs at different steps and plot the classification confidence evolution over iterations.  \n",
    "3. **Document your findings** and explain the behavior you observe.  \n",
    "\n",
    "## **Task & Deliverables**  \n",
    "\n",
    "- A **Colab notebook** containing solutions for both tasks:\n",
    "  - The full implementation.\n",
    "  - Visualizations of the generated batch of images.\n",
    "  - A written explanation of your observations.\n",
    "- **Bonus:** If you create an **animation** showing the evolution of the input images during optimization, it will be considered a strong enhancement to your submission.\n",
    "  - You can generate an animation programmatically (e.g., using Matplotlib or OpenCV).\n",
    "  - Or, save image frames and use external tools to create a video.\n",
    "  - Provide a **link** to any video files in the README.\n",
    "- Upload your notebook and results to your **GitHub repository** for the course.\n",
    "- In the **README**, include a **link** to the notebook.\n",
    "- In the notebook, include **“Open in Colab”** badge so it can be launched directly.\n",
    "\n",
    "\n"
   ]
  },
  {
   "cell_type": "markdown",
   "id": "992bc84f-dac2-4a74-a703-dfe551a8a237",
   "metadata": {},
   "source": [
    "# Solution"
   ]
  },
  {
   "cell_type": "code",
   "execution_count": 143,
   "id": "05703366-9f45-4e14-b12c-12fa2f5368fc",
   "metadata": {},
   "outputs": [],
   "source": [
    "### solution FIRSTYLY WE ARE GOING TO FREEZE MODEL PARAMETERS\n",
    "for parameters in net.parameters():\n",
    "    parameters.requires_grad = False\n",
    "\n",
    "points = torch.randn(10, 1, 28, 28).to(device)\n",
    "points.requires_grad = True\n",
    "\n",
    "true = torch.LongTensor(range(0,10)).to(device)"
   ]
  },
  {
   "cell_type": "code",
   "execution_count": 144,
   "id": "775e617c-e74d-4eb4-8de8-fb2b1aadcff4",
   "metadata": {},
   "outputs": [
    {
     "name": "stdout",
     "output_type": "stream",
     "text": [
      "Iteration 0 current batch loss: 14.50979232788086\n",
      "Iteration 1000 current batch loss: 3.288416624069214\n",
      "Iteration 2000 current batch loss: 0.8411056995391846\n",
      "Iteration 3000 current batch loss: 0.22551503777503967\n",
      "Iteration 4000 current batch loss: 0.10128903388977051\n",
      "Iteration 5000 current batch loss: 0.08204707503318787\n",
      "Iteration 6000 current batch loss: 0.07971294224262238\n",
      "Iteration 7000 current batch loss: 0.07955799996852875\n",
      "Iteration 8000 current batch loss: 0.07955613732337952\n",
      "Iteration 9000 current batch loss: 0.0795603096485138\n",
      "Iteration 10000 current batch loss: 0.07956311106681824\n",
      "Iteration 11000 current batch loss: 0.07956354320049286\n",
      "Iteration 12000 current batch loss: 0.07956083118915558\n",
      "Iteration 13000 current batch loss: 0.07956397533416748\n",
      "Iteration 14000 current batch loss: 0.07956331223249435\n",
      "Iteration 15000 current batch loss: 0.07956582307815552\n",
      "Iteration 16000 current batch loss: 0.07956650853157043\n",
      "Iteration 17000 current batch loss: 0.0795656368136406\n",
      "Iteration 18000 current batch loss: 0.07956496626138687\n",
      "Iteration 19000 current batch loss: 0.07956621050834656\n",
      "Iteration 20000 current batch loss: 0.0795665979385376\n",
      "Iteration 21000 current batch loss: 0.07956736534833908\n",
      "Iteration 22000 current batch loss: 0.07956308871507645\n",
      "Iteration 23000 current batch loss: 0.0795648843050003\n",
      "Iteration 24000 current batch loss: 0.07956446707248688\n",
      "Iteration 25000 current batch loss: 0.07956607639789581\n",
      "Iteration 26000 current batch loss: 0.07956501841545105\n",
      "Iteration 27000 current batch loss: 0.07956485450267792\n",
      "Iteration 28000 current batch loss: 0.0795661062002182\n",
      "Iteration 29000 current batch loss: 0.07956614345312119\n",
      "Iteration 30000 current batch loss: 0.0795663520693779\n",
      "Iteration 31000 current batch loss: 0.07956656068563461\n",
      "Iteration 32000 current batch loss: 0.07956350594758987\n",
      "Iteration 33000 current batch loss: 0.07956717163324356\n",
      "Iteration 34000 current batch loss: 0.07956314086914062\n",
      "Iteration 35000 current batch loss: 0.07956510782241821\n",
      "Iteration 36000 current batch loss: 0.0795668512582779\n",
      "Iteration 37000 current batch loss: 0.07956591248512268\n",
      "Iteration 38000 current batch loss: 0.0795649066567421\n",
      "Iteration 39000 current batch loss: 0.07956500351428986\n",
      "Iteration 40000 current batch loss: 0.07956603169441223\n",
      "Iteration 41000 current batch loss: 0.07956768572330475\n",
      "Iteration 42000 current batch loss: 0.07956759631633759\n",
      "Iteration 43000 current batch loss: 0.07956597954034805\n",
      "Iteration 44000 current batch loss: 0.07956649363040924\n",
      "Iteration 45000 current batch loss: 0.07956556230783463\n",
      "Iteration 46000 current batch loss: 0.07956406474113464\n",
      "Iteration 47000 current batch loss: 0.0795634388923645\n",
      "Iteration 48000 current batch loss: 0.0795648917555809\n",
      "Iteration 49000 current batch loss: 0.07956292480230331\n",
      "Iteration 50000 current batch loss: 0.07956743240356445\n",
      "Iteration 51000 current batch loss: 0.07956534624099731\n",
      "Iteration 52000 current batch loss: 0.07956656813621521\n",
      "Iteration 53000 current batch loss: 0.07956859469413757\n",
      "Iteration 54000 current batch loss: 0.07956589758396149\n",
      "Iteration 55000 current batch loss: 0.07956589758396149\n",
      "Iteration 56000 current batch loss: 0.07956399023532867\n",
      "Iteration 57000 current batch loss: 0.07956673949956894\n",
      "Iteration 58000 current batch loss: 0.07956615090370178\n",
      "Iteration 59000 current batch loss: 0.07956336438655853\n",
      "Iteration 60000 current batch loss: 0.07956482470035553\n",
      "Iteration 61000 current batch loss: 0.07956621795892715\n",
      "Iteration 62000 current batch loss: 0.07956111431121826\n",
      "Iteration 63000 current batch loss: 0.07956428080797195\n",
      "Iteration 64000 current batch loss: 0.07956252247095108\n",
      "Iteration 65000 current batch loss: 0.07956580072641373\n",
      "Iteration 66000 current batch loss: 0.07956491410732269\n",
      "Iteration 67000 current batch loss: 0.07956850528717041\n",
      "Iteration 68000 current batch loss: 0.07956557720899582\n",
      "Iteration 69000 current batch loss: 0.0795670598745346\n",
      "Iteration 70000 current batch loss: 0.07956495136022568\n",
      "Iteration 71000 current batch loss: 0.07956425100564957\n",
      "Iteration 72000 current batch loss: 0.07956025749444962\n",
      "Iteration 73000 current batch loss: 0.07956203073263168\n",
      "Iteration 74000 current batch loss: 0.07956505566835403\n",
      "Iteration 75000 current batch loss: 0.07956647872924805\n",
      "Iteration 76000 current batch loss: 0.07956256717443466\n",
      "Iteration 77000 current batch loss: 0.07956483960151672\n",
      "Iteration 78000 current batch loss: 0.07956963777542114\n",
      "Iteration 79000 current batch loss: 0.07956492900848389\n",
      "Iteration 80000 current batch loss: 0.07956394553184509\n",
      "Iteration 81000 current batch loss: 0.07956362515687943\n",
      "Iteration 82000 current batch loss: 0.0795622244477272\n",
      "Iteration 83000 current batch loss: 0.07956444472074509\n",
      "Iteration 84000 current batch loss: 0.07956398278474808\n",
      "Iteration 85000 current batch loss: 0.07956746220588684\n",
      "Iteration 86000 current batch loss: 0.07956591248512268\n",
      "Iteration 87000 current batch loss: 0.07956395298242569\n",
      "Iteration 88000 current batch loss: 0.07956412434577942\n",
      "Iteration 89000 current batch loss: 0.07956166565418243\n",
      "Iteration 90000 current batch loss: 0.07956710457801819\n",
      "Iteration 91000 current batch loss: 0.07956531643867493\n",
      "Iteration 92000 current batch loss: 0.07956758141517639\n",
      "Iteration 93000 current batch loss: 0.07956665754318237\n",
      "Iteration 94000 current batch loss: 0.07956298440694809\n",
      "Iteration 95000 current batch loss: 0.07956475019454956\n",
      "Iteration 96000 current batch loss: 0.07956589758396149\n",
      "Iteration 97000 current batch loss: 0.0795651376247406\n",
      "Iteration 98000 current batch loss: 0.0795670673251152\n",
      "Iteration 99000 current batch loss: 0.07956700026988983\n"
     ]
    }
   ],
   "source": [
    "optimizer = torch.optim.Adam([points], 0.001)   #initial and fixed learning rate of 0.001.\n",
    "lambda_l2 = 10\n",
    "\n",
    "for epoch in range(100000):  #  an epoch is a training run through the whole data set\n",
    "\n",
    "    optimizer.zero_grad()\n",
    "\n",
    "    preds = net(points)   #this line calls the forward(self, x) method of the MLP object. Please note, that the last layer of the MLP is linear\n",
    "                                            #and MLP doesn't apply\n",
    "                                            #the nonlinear activation after the last layer\n",
    "    loss = torch.nn.functional.cross_entropy(preds, true, reduction = \"mean\") + lambda_l2 * points.pow(2).mean()\n",
    "\n",
    "    if epoch % 1000 == 0:\n",
    "        print(\"Iteration\", epoch, \"current batch loss:\", loss.item())\n",
    "    \n",
    "    loss.backward()       #this computes gradients as we have seen in previous workshops\n",
    "    optimizer.step()     #but this line in fact updates our neural network.\n",
    "                                ####You can experiment - comment this line and check, that the loss DOE"
   ]
  },
  {
   "cell_type": "code",
   "execution_count": 146,
   "id": "06f74aeb-c081-45eb-a7c3-fac1edf39e11",
   "metadata": {},
   "outputs": [
    {
     "name": "stdout",
     "output_type": "stream",
     "text": [
      "tensor([[-1.9173, -2.5273, -2.3000, -2.1166, -2.1140, -1.8726, -1.6631, -3.3699,\n",
      "          3.6798, -1.9110]], device='cuda:0', grad_fn=<AddmmBackward0>)\n"
     ]
    },
    {
     "data": {
      "image/png": "[encoded data removed]",
      "text/plain": [
       "<Figure size 640x480 with 1 Axes>"
      ]
     },
     "metadata": {},
     "output_type": "display_data"
    }
   ],
   "source": [
    "number = 8\n",
    "\n",
    "print(net(points[number]))\n",
    "pyplot.imshow(points[number].squeeze().detach().cpu().clone().numpy())\n",
    "pyplot.show()"
   ]
  },
  {
   "cell_type": "code",
   "execution_count": null,
   "id": "68efcbf1-bc04-46bf-b080-5ccc0d3ec457",
   "metadata": {},
   "outputs": [],
   "source": []
  }
 ],
 "metadata": {
  "accelerator": "GPU",
  "colab": {
   "gpuType": "T4",
   "include_colab_link": true,
   "provenance": []
  },
  "kernelspec": {
   "display_name": "Python 3 (ipykernel)",
   "language": "python",
   "name": "python3"
  },
  "language_info": {
   "codemirror_mode": {
    "name": "ipython",
    "version": 3
   },
   "file_extension": ".py",
   "mimetype": "text/x-python",
   "name": "python",
   "nbconvert_exporter": "python",
   "pygments_lexer": "ipython3",
   "version": "3.13.2"
  }
 },
 "nbformat": 4,
 "nbformat_minor": 5
}
