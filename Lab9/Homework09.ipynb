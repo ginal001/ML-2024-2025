{
 "cells": [
  {
   "cell_type": "markdown",
   "id": "4fZB1Y2w9qYi",
   "metadata": {
    "id": "4fZB1Y2w9qYi"
   },
   "source": [
    "\n",
    "# MNIST dataset\n",
    "----------------------\n",
    "\n",
    "In this workshop, we will construct an MLP network designed to a specific task of classification of MNIST dataset: a set of handwritten digits from *zero* to *nine*. MNIST stands for Modified National Institute of Standards and Technology database.\n",
    "\n",
    "**You can read more about this dataset [here](https://colah.github.io/posts/2014-10-Visualizing-MNIST/#MNIST).**\n"
   ]
  },
  {
   "cell_type": "markdown",
   "id": "wqJVU0gp9rws",
   "metadata": {
    "id": "wqJVU0gp9rws"
   },
   "source": [
    "\n",
    "\n",
    "# Multi Layer Perceptron Notation\n",
    "---------------------------------\n",
    "\n",
    "In this workshop we will be classifying 28 by 28 images into 10 classes. Thus, a four layer perceptron (our classificator) we will work further with can be defined as\n",
    "$\\hat f:\\mathbb{R}^{28\\cdot 28} \\rightarrow \\mathbb{R}^{10}$ defined as\n",
    "\n",
    "$$\\hat f \\left(x; W_1, W_2, W_3, W_4, b_1, b_2, b_3, b_4 \\right) =  W_4 \\left[ W_3 \\left[ W_2 \\left[ W_1 x  + b_1 \\right]_+  + b_2 \\right]_+  + b_3 \\right]_+ + b_4,$$\n",
    "\n",
    "where matrices $W_1, \\ldots, W_4$ are tensors of order two (matrices) with matching dimensions and bias terms $b_1, \\ldots, b_4$ are tensors of order one (vectors) of matching dimensions, and we are using ReLU activation.\n",
    "\n",
    "Note, that there is no nonlinear activation after the last layer in our neural network. **There is an implicit softmax applied while cross entropy loss is calculated by `torch.nn.functional`.**\n"
   ]
  },
  {
   "cell_type": "markdown",
   "id": "s6RwV0RN_Kc9",
   "metadata": {
    "id": "s6RwV0RN_Kc9"
   },
   "source": [
    "# Reading MNIST Dataset to Play with It\n",
    "--------------------"
   ]
  },
  {
   "cell_type": "code",
   "execution_count": 1,
   "id": "vjAlmExA_Twh",
   "metadata": {
    "id": "vjAlmExA_Twh",
    "scrolled": true
   },
   "outputs": [
    {
     "name": "stderr",
     "output_type": "stream",
     "text": [
      "100.0%\n",
      "100.0%\n",
      "100.0%\n",
      "100.0%\n"
     ]
    }
   ],
   "source": [
    "import torch\n",
    "import torchvision\n",
    "from matplotlib import pyplot\n",
    "\n",
    "trainset = torchvision.datasets.MNIST(root='./data',\n",
    "                                      train=True,\n",
    "                                      download=True,\n",
    "                                      transform=None)"
   ]
  },
  {
   "cell_type": "code",
   "execution_count": 2,
   "id": "gcgep60g_Xs6",
   "metadata": {
    "colab": {
     "base_uri": "https://localhost:8080/",
     "height": 430
    },
    "id": "gcgep60g_Xs6",
    "outputId": "b1451990-d01c-4752-de25-e49db3f8a68e"
   },
   "outputs": [
    {
     "data": {
      "image/png": "[encoded data removed]",
      "text/plain": [
       "<Figure size 640x480 with 1 Axes>"
      ]
     },
     "metadata": {},
     "output_type": "display_data"
    }
   ],
   "source": [
    "train_image, train_target = trainset[0]    #let us examine the 0-th sample\n",
    "pyplot.imshow(train_image)\n",
    "pyplot.show()"
   ]
  },
  {
   "cell_type": "code",
   "execution_count": 3,
   "id": "5toa5f-l_eUS",
   "metadata": {
    "colab": {
     "base_uri": "https://localhost:8080/"
    },
    "id": "5toa5f-l_eUS",
    "outputId": "77bb3c95-ea74-4ecc-c1ed-122ac1dd913d"
   },
   "outputs": [
    {
     "data": {
      "text/plain": [
       "tensor([[  0,   0,   0,   0,   0,   0,   0,   0,   0,   0,   0,   0,   0,   0,\n",
       "           0,   0,   0,   0,   0,   0,   0,   0,   0,   0,   0,   0,   0,   0],\n",
       "        [  0,   0,   0,   0,   0,   0,   0,   0,   0,   0,   0,   0,   0,   0,\n",
       "           0,   0,   0,   0,   0,   0,   0,   0,   0,   0,   0,   0,   0,   0],\n",
       "        [  0,   0,   0,   0,   0,   0,   0,   0,   0,   0,   0,   0,   0,   0,\n",
       "           0,   0,   0,   0,   0,   0,   0,   0,   0,   0,   0,   0,   0,   0],\n",
       "        [  0,   0,   0,   0,   0,   0,   0,   0,   0,   0,   0,   0,   0,   0,\n",
       "           0,   0,   0,   0,   0,   0,   0,   0,   0,   0,   0,   0,   0,   0],\n",
       "        [  0,   0,   0,   0,   0,   0,   0,   0,   0,   0,   0,   0,   0,   0,\n",
       "           0,   0,   0,   0,   0,   0,   0,   0,   0,   0,   0,   0,   0,   0],\n",
       "        [  0,   0,   0,   0,   0,   0,   0,   0,   0,   0,   0,   0,   3,  18,\n",
       "          18,  18, 126, 136, 175,  26, 166, 255, 247, 127,   0,   0,   0,   0],\n",
       "        [  0,   0,   0,   0,   0,   0,   0,   0,  30,  36,  94, 154, 170, 253,\n",
       "         253, 253, 253, 253, 225, 172, 253, 242, 195,  64,   0,   0,   0,   0],\n",
       "        [  0,   0,   0,   0,   0,   0,   0,  49, 238, 253, 253, 253, 253, 253,\n",
       "         253, 253, 253, 251,  93,  82,  82,  56,  39,   0,   0,   0,   0,   0],\n",
       "        [  0,   0,   0,   0,   0,   0,   0,  18, 219, 253, 253, 253, 253, 253,\n",
       "         198, 182, 247, 241,   0,   0,   0,   0,   0,   0,   0,   0,   0,   0],\n",
       "        [  0,   0,   0,   0,   0,   0,   0,   0,  80, 156, 107, 253, 253, 205,\n",
       "          11,   0,  43, 154,   0,   0,   0,   0,   0,   0,   0,   0,   0,   0],\n",
       "        [  0,   0,   0,   0,   0,   0,   0,   0,   0,  14,   1, 154, 253,  90,\n",
       "           0,   0,   0,   0,   0,   0,   0,   0,   0,   0,   0,   0,   0,   0],\n",
       "        [  0,   0,   0,   0,   0,   0,   0,   0,   0,   0,   0, 139, 253, 190,\n",
       "           2,   0,   0,   0,   0,   0,   0,   0,   0,   0,   0,   0,   0,   0],\n",
       "        [  0,   0,   0,   0,   0,   0,   0,   0,   0,   0,   0,  11, 190, 253,\n",
       "          70,   0,   0,   0,   0,   0,   0,   0,   0,   0,   0,   0,   0,   0],\n",
       "        [  0,   0,   0,   0,   0,   0,   0,   0,   0,   0,   0,   0,  35, 241,\n",
       "         225, 160, 108,   1,   0,   0,   0,   0,   0,   0,   0,   0,   0,   0],\n",
       "        [  0,   0,   0,   0,   0,   0,   0,   0,   0,   0,   0,   0,   0,  81,\n",
       "         240, 253, 253, 119,  25,   0,   0,   0,   0,   0,   0,   0,   0,   0],\n",
       "        [  0,   0,   0,   0,   0,   0,   0,   0,   0,   0,   0,   0,   0,   0,\n",
       "          45, 186, 253, 253, 150,  27,   0,   0,   0,   0,   0,   0,   0,   0],\n",
       "        [  0,   0,   0,   0,   0,   0,   0,   0,   0,   0,   0,   0,   0,   0,\n",
       "           0,  16,  93, 252, 253, 187,   0,   0,   0,   0,   0,   0,   0,   0],\n",
       "        [  0,   0,   0,   0,   0,   0,   0,   0,   0,   0,   0,   0,   0,   0,\n",
       "           0,   0,   0, 249, 253, 249,  64,   0,   0,   0,   0,   0,   0,   0],\n",
       "        [  0,   0,   0,   0,   0,   0,   0,   0,   0,   0,   0,   0,   0,   0,\n",
       "          46, 130, 183, 253, 253, 207,   2,   0,   0,   0,   0,   0,   0,   0],\n",
       "        [  0,   0,   0,   0,   0,   0,   0,   0,   0,   0,   0,   0,  39, 148,\n",
       "         229, 253, 253, 253, 250, 182,   0,   0,   0,   0,   0,   0,   0,   0],\n",
       "        [  0,   0,   0,   0,   0,   0,   0,   0,   0,   0,  24, 114, 221, 253,\n",
       "         253, 253, 253, 201,  78,   0,   0,   0,   0,   0,   0,   0,   0,   0],\n",
       "        [  0,   0,   0,   0,   0,   0,   0,   0,  23,  66, 213, 253, 253, 253,\n",
       "         253, 198,  81,   2,   0,   0,   0,   0,   0,   0,   0,   0,   0,   0],\n",
       "        [  0,   0,   0,   0,   0,   0,  18, 171, 219, 253, 253, 253, 253, 195,\n",
       "          80,   9,   0,   0,   0,   0,   0,   0,   0,   0,   0,   0,   0,   0],\n",
       "        [  0,   0,   0,   0,  55, 172, 226, 253, 253, 253, 253, 244, 133,  11,\n",
       "           0,   0,   0,   0,   0,   0,   0,   0,   0,   0,   0,   0,   0,   0],\n",
       "        [  0,   0,   0,   0, 136, 253, 253, 253, 212, 135, 132,  16,   0,   0,\n",
       "           0,   0,   0,   0,   0,   0,   0,   0,   0,   0,   0,   0,   0,   0],\n",
       "        [  0,   0,   0,   0,   0,   0,   0,   0,   0,   0,   0,   0,   0,   0,\n",
       "           0,   0,   0,   0,   0,   0,   0,   0,   0,   0,   0,   0,   0,   0],\n",
       "        [  0,   0,   0,   0,   0,   0,   0,   0,   0,   0,   0,   0,   0,   0,\n",
       "           0,   0,   0,   0,   0,   0,   0,   0,   0,   0,   0,   0,   0,   0],\n",
       "        [  0,   0,   0,   0,   0,   0,   0,   0,   0,   0,   0,   0,   0,   0,\n",
       "           0,   0,   0,   0,   0,   0,   0,   0,   0,   0,   0,   0,   0,   0]],\n",
       "       dtype=torch.uint8)"
      ]
     },
     "execution_count": 3,
     "metadata": {},
     "output_type": "execute_result"
    }
   ],
   "source": [
    "trainset.data[0]     #it will be shown in two rows, so a human has hard time classificating it"
   ]
  },
  {
   "cell_type": "code",
   "execution_count": 4,
   "id": "eNgiEB1V_hbV",
   "metadata": {
    "colab": {
     "base_uri": "https://localhost:8080/"
    },
    "id": "eNgiEB1V_hbV",
    "outputId": "652c4ac9-8b46-4d7a-9d3f-266b8cc37ba1"
   },
   "outputs": [
    {
     "data": {
      "text/plain": [
       "5"
      ]
     },
     "execution_count": 4,
     "metadata": {},
     "output_type": "execute_result"
    }
   ],
   "source": [
    "trainset[0][1]    #check if you classified it correctly in your mind"
   ]
  },
  {
   "cell_type": "markdown",
   "id": "5kvPHSvuAdDK",
   "metadata": {
    "id": "5kvPHSvuAdDK"
   },
   "source": [
    "# Rereading the MNIST Data (Serious Preparation for Training)\n",
    "------------------"
   ]
  },
  {
   "cell_type": "code",
   "execution_count": 5,
   "id": "Ar2Rzq7UAcjC",
   "metadata": {
    "colab": {
     "base_uri": "https://localhost:8080/"
    },
    "id": "Ar2Rzq7UAcjC",
    "outputId": "68f8f0f2-69c4-44d1-c770-2eac2b0e08f2"
   },
   "outputs": [
    {
     "data": {
      "text/plain": [
       "(np.float64(0.1306604762738429), np.float64(0.30810780385646264))"
      ]
     },
     "execution_count": 5,
     "metadata": {},
     "output_type": "execute_result"
    }
   ],
   "source": [
    "(trainset.data.numpy().mean()/255.0, trainset.data.numpy().std()/255.0)   #MNIST datapoints are RGB integers 0-255"
   ]
  },
  {
   "cell_type": "markdown",
   "id": "-waIu3OQXGx0",
   "metadata": {
    "id": "-waIu3OQXGx0"
   },
   "source": [
    "# Task\n",
    "---------------\n",
    "\n",
    "Why do we need to normalize the data, and not feed the NN with the 0-255 integers?"
   ]
  },
  {
   "cell_type": "code",
   "execution_count": 6,
   "id": "01dayZiEAk3C",
   "metadata": {
    "id": "01dayZiEAk3C"
   },
   "outputs": [],
   "source": [
    "transform = torchvision.transforms.Compose(\n",
    "    [ torchvision.transforms.ToTensor(), #Converts a PIL Image or numpy.ndarray (H x W x C) in the range [0, 255] to a torch.FloatTensor of shape (C x H x W) in the range [0.0, 1.0]\n",
    "      torchvision.transforms.Normalize((0.1307), (0.3081))])\n",
    "\n",
    "trainset = torchvision.datasets.MNIST(root='./data',\n",
    "                                      train=True,\n",
    "                                      download=True,\n",
    "                                      transform=transform)\n",
    "\n",
    "trainloader = torch.utils.data.DataLoader(trainset,\n",
    "                                          batch_size=2048,\n",
    "                                          shuffle=True)   #we do shuffle it to give more randomizations to training epochs\n",
    "\n",
    "testset = torchvision.datasets.MNIST(root='./data',\n",
    "                                     train=False,\n",
    "                                     download=True,\n",
    "                                     transform=transform)\n",
    "\n",
    "testloader = torch.utils.data.DataLoader(testset,\n",
    "                                         batch_size=1,\n",
    "                                         shuffle=False)"
   ]
  },
  {
   "cell_type": "markdown",
   "id": "dfqt0kUECnZB",
   "metadata": {
    "id": "dfqt0kUECnZB"
   },
   "source": [
    "## Visualizing Data\n"
   ]
  },
  {
   "cell_type": "markdown",
   "id": "fxGIwBKGCtFa",
   "metadata": {
    "id": "fxGIwBKGCtFa"
   },
   "source": [
    "### Labels (Ground Truth Outputs)"
   ]
  },
  {
   "cell_type": "code",
   "execution_count": 7,
   "id": "bzu3lJ2lCwFq",
   "metadata": {
    "colab": {
     "base_uri": "https://localhost:8080/"
    },
    "id": "bzu3lJ2lCwFq",
    "outputId": "a7616a56-a698-4f01-bdd0-dae88e7f5b86"
   },
   "outputs": [
    {
     "name": "stdout",
     "output_type": "stream",
     "text": [
      "0 -th batch labels : tensor([8, 4, 9,  ..., 3, 3, 1])\n",
      "1 -th batch labels : tensor([0, 7, 3,  ..., 8, 1, 1])\n",
      "2 -th batch labels : tensor([2, 2, 6,  ..., 5, 2, 2])\n",
      "3 -th batch labels : tensor([5, 7, 8,  ..., 0, 8, 7])\n",
      "4 -th batch labels : tensor([6, 8, 1,  ..., 4, 1, 0])\n"
     ]
    }
   ],
   "source": [
    "for i, data in enumerate(trainloader):\n",
    "        batch_inputs, batch_labels = data\n",
    "\n",
    "        if i<5:\n",
    "            print(i, \"-th batch labels :\", batch_labels)"
   ]
  },
  {
   "cell_type": "markdown",
   "id": "PebIPPfpC05T",
   "metadata": {
    "id": "PebIPPfpC05T"
   },
   "source": [
    "A single label is an entity of order zero (a constant), but batched labels are of order one. The first (and only) index is a sample index within a batch."
   ]
  },
  {
   "cell_type": "markdown",
   "id": "NLmKJ1FbC2qJ",
   "metadata": {
    "id": "NLmKJ1FbC2qJ"
   },
   "source": [
    "### Inputs"
   ]
  },
  {
   "cell_type": "code",
   "execution_count": 8,
   "id": "2jcRrNw_DQui",
   "metadata": {
    "colab": {
     "base_uri": "https://localhost:8080/"
    },
    "id": "2jcRrNw_DQui",
    "outputId": "2d9a5d12-72cd-4a38-a318-c36eb410d137"
   },
   "outputs": [
    {
     "name": "stdout",
     "output_type": "stream",
     "text": [
      "0 -th batch inputs : tensor([[[[-0.4242, -0.4242, -0.4242,  ..., -0.4242, -0.4242, -0.4242],\n",
      "          [-0.4242, -0.4242, -0.4242,  ..., -0.4242, -0.4242, -0.4242],\n",
      "          [-0.4242, -0.4242, -0.4242,  ..., -0.4242, -0.4242, -0.4242],\n",
      "          ...,\n",
      "          [-0.4242, -0.4242, -0.4242,  ..., -0.4242, -0.4242, -0.4242],\n",
      "          [-0.4242, -0.4242, -0.4242,  ..., -0.4242, -0.4242, -0.4242],\n",
      "          [-0.4242, -0.4242, -0.4242,  ..., -0.4242, -0.4242, -0.4242]]],\n",
      "\n",
      "\n",
      "        [[[-0.4242, -0.4242, -0.4242,  ..., -0.4242, -0.4242, -0.4242],\n",
      "          [-0.4242, -0.4242, -0.4242,  ..., -0.4242, -0.4242, -0.4242],\n",
      "          [-0.4242, -0.4242, -0.4242,  ..., -0.4242, -0.4242, -0.4242],\n",
      "          ...,\n",
      "          [-0.4242, -0.4242, -0.4242,  ..., -0.4242, -0.4242, -0.4242],\n",
      "          [-0.4242, -0.4242, -0.4242,  ..., -0.4242, -0.4242, -0.4242],\n",
      "          [-0.4242, -0.4242, -0.4242,  ..., -0.4242, -0.4242, -0.4242]]],\n",
      "\n",
      "\n",
      "        [[[-0.4242, -0.4242, -0.4242,  ..., -0.4242, -0.4242, -0.4242],\n",
      "          [-0.4242, -0.4242, -0.4242,  ..., -0.4242, -0.4242, -0.4242],\n",
      "          [-0.4242, -0.4242, -0.4242,  ..., -0.4242, -0.4242, -0.4242],\n",
      "          ...,\n",
      "          [-0.4242, -0.4242, -0.4242,  ..., -0.4242, -0.4242, -0.4242],\n",
      "          [-0.4242, -0.4242, -0.4242,  ..., -0.4242, -0.4242, -0.4242],\n",
      "          [-0.4242, -0.4242, -0.4242,  ..., -0.4242, -0.4242, -0.4242]]],\n",
      "\n",
      "\n",
      "        ...,\n",
      "\n",
      "\n",
      "        [[[-0.4242, -0.4242, -0.4242,  ..., -0.4242, -0.4242, -0.4242],\n",
      "          [-0.4242, -0.4242, -0.4242,  ..., -0.4242, -0.4242, -0.4242],\n",
      "          [-0.4242, -0.4242, -0.4242,  ..., -0.4242, -0.4242, -0.4242],\n",
      "          ...,\n",
      "          [-0.4242, -0.4242, -0.4242,  ..., -0.4242, -0.4242, -0.4242],\n",
      "          [-0.4242, -0.4242, -0.4242,  ..., -0.4242, -0.4242, -0.4242],\n",
      "          [-0.4242, -0.4242, -0.4242,  ..., -0.4242, -0.4242, -0.4242]]],\n",
      "\n",
      "\n",
      "        [[[-0.4242, -0.4242, -0.4242,  ..., -0.4242, -0.4242, -0.4242],\n",
      "          [-0.4242, -0.4242, -0.4242,  ..., -0.4242, -0.4242, -0.4242],\n",
      "          [-0.4242, -0.4242, -0.4242,  ..., -0.4242, -0.4242, -0.4242],\n",
      "          ...,\n",
      "          [-0.4242, -0.4242, -0.4242,  ..., -0.4242, -0.4242, -0.4242],\n",
      "          [-0.4242, -0.4242, -0.4242,  ..., -0.4242, -0.4242, -0.4242],\n",
      "          [-0.4242, -0.4242, -0.4242,  ..., -0.4242, -0.4242, -0.4242]]],\n",
      "\n",
      "\n",
      "        [[[-0.4242, -0.4242, -0.4242,  ..., -0.4242, -0.4242, -0.4242],\n",
      "          [-0.4242, -0.4242, -0.4242,  ..., -0.4242, -0.4242, -0.4242],\n",
      "          [-0.4242, -0.4242, -0.4242,  ..., -0.4242, -0.4242, -0.4242],\n",
      "          ...,\n",
      "          [-0.4242, -0.4242, -0.4242,  ..., -0.4242, -0.4242, -0.4242],\n",
      "          [-0.4242, -0.4242, -0.4242,  ..., -0.4242, -0.4242, -0.4242],\n",
      "          [-0.4242, -0.4242, -0.4242,  ..., -0.4242, -0.4242, -0.4242]]]])\n"
     ]
    }
   ],
   "source": [
    "for i, data in enumerate(trainloader):\n",
    "        batch_inputs, batch_labels = data\n",
    "\n",
    "        if i==0:\n",
    "            print(i, \"-th batch inputs :\", batch_inputs)"
   ]
  },
  {
   "cell_type": "markdown",
   "id": "YTcC3qH2DZOK",
   "metadata": {
    "id": "YTcC3qH2DZOK"
   },
   "source": [
    "OK, so each data image was initially a two dimensional image when we first saw it, but now the batches have order 4. The first index is a sample index within a batch, but a second index is always 0. This index represents a Channel number inserted here by `ToTensor()` transformation, always 0. As this order is one-dimensional, we can get rid of it, later, in training, in `Flatten` layer or by using `squeeze()` on a tensor."
   ]
  },
  {
   "cell_type": "markdown",
   "id": "ZX09I7rUDkei",
   "metadata": {
    "id": "ZX09I7rUDkei"
   },
   "source": [
    "# MLP Definition\n",
    "-----------------\n",
    "\n",
    "Your job now is to take the (fully functional) definition of the MLP structure and get rid off the Sequential layer.\n"
   ]
  },
  {
   "cell_type": "code",
   "execution_count": 9,
   "id": "_jaDXM9oDvrx",
   "metadata": {
    "id": "_jaDXM9oDvrx"
   },
   "outputs": [],
   "source": [
    "class MLP(torch.nn.Module):\n",
    "    def __init__(self):\n",
    "        super().__init__()\n",
    "        self.mlp = torch.nn.Sequential(   #Sequential is a structure which allows stacking layers one on another in such a way,\n",
    "                                          #that output from a preceding layer serves as input to the next layer\n",
    "            torch.nn.Flatten(),   #change the last three orders in data (with dimensions 1, 28 and 28 respectively) into one order of dimensions (1*28*28)\n",
    "            torch.nn.Linear(1*28*28, 1024),  #which is used as INPUT to the first Linear layer\n",
    "            torch.nn.ReLU(),\n",
    "            torch.nn.Linear(1024, 2048),   #IMPORTANT! Please observe, that the OUTPUT dimension of a preceding layer is always equal to the INPUT dimension of the next layer.\n",
    "            torch.nn.ReLU(),\n",
    "            torch.nn.Linear(2048, 256),\n",
    "            torch.nn.ReLU(),            #ReLU (or a Sigmoid if you want) is a nonlinear function which is used in-between layers\n",
    "            torch.nn.Linear(256, 10),\n",
    "        )\n",
    "        self.dropout = torch.nn.Dropout(0.05)\n",
    "\n",
    "    def forward(self, x):\n",
    "        x = self.mlp(x)\n",
    "        x = self.dropout(x)\n",
    "        return x"
   ]
  },
  {
   "cell_type": "markdown",
   "id": "fE5rN8UTFFw7",
   "metadata": {
    "id": "fE5rN8UTFFw7"
   },
   "source": [
    "# Training Loop\n",
    "----------------------"
   ]
  },
  {
   "cell_type": "code",
   "execution_count": 10,
   "id": "55Sda8Y5FIOh",
   "metadata": {
    "colab": {
     "base_uri": "https://localhost:8080/"
    },
    "id": "55Sda8Y5FIOh",
    "outputId": "3a6bba26-fbc4-4d7c-9765-57c93cd3c6d8"
   },
   "outputs": [
    {
     "name": "stdout",
     "output_type": "stream",
     "text": [
      "Working on cuda\n",
      "epoch: 0 batch: 0 current batch loss: 2.307791233062744\n",
      "epoch: 0 batch: 1 current batch loss: 2.0955493450164795\n",
      "epoch: 0 batch: 2 current batch loss: 1.6717263460159302\n",
      "epoch: 0 batch: 3 current batch loss: 1.1207036972045898\n",
      "epoch: 0 batch: 4 current batch loss: 1.0850300788879395\n",
      "epoch: 0 batch: 5 current batch loss: 1.3066685199737549\n",
      "epoch: 0 batch: 6 current batch loss: 1.2896716594696045\n",
      "epoch: 0 batch: 7 current batch loss: 0.9120600819587708\n",
      "epoch: 0 batch: 8 current batch loss: 0.7981022596359253\n",
      "epoch: 0 batch: 9 current batch loss: 0.7707856893539429\n",
      "epoch: 0 batch: 10 current batch loss: 0.7379336953163147\n",
      "epoch: 0 batch: 11 current batch loss: 0.6241218447685242\n",
      "epoch: 0 batch: 12 current batch loss: 0.6158120632171631\n",
      "epoch: 0 batch: 13 current batch loss: 0.581678569316864\n",
      "epoch: 0 batch: 14 current batch loss: 0.57234126329422\n",
      "epoch: 0 batch: 15 current batch loss: 0.5662747025489807\n",
      "epoch: 0 batch: 16 current batch loss: 0.5053489804267883\n",
      "epoch: 0 batch: 17 current batch loss: 0.48468369245529175\n",
      "epoch: 0 batch: 18 current batch loss: 0.4259212911128998\n",
      "epoch: 0 batch: 19 current batch loss: 0.40793269872665405\n",
      "epoch: 0 batch: 20 current batch loss: 0.4010884463787079\n",
      "epoch: 0 batch: 21 current batch loss: 0.364895761013031\n",
      "epoch: 0 batch: 22 current batch loss: 0.3955395817756653\n",
      "epoch: 0 batch: 23 current batch loss: 0.40003496408462524\n",
      "epoch: 0 batch: 24 current batch loss: 0.3498687446117401\n",
      "epoch: 0 batch: 25 current batch loss: 0.31388503313064575\n",
      "epoch: 0 batch: 26 current batch loss: 0.3192834258079529\n",
      "epoch: 0 batch: 27 current batch loss: 0.2935863435268402\n",
      "epoch: 0 batch: 28 current batch loss: 0.30686959624290466\n",
      "epoch: 0 batch: 29 current batch loss: 0.294169157743454\n",
      "epoch: 1 batch: 0 current batch loss: 0.24128307402133942\n",
      "epoch: 1 batch: 1 current batch loss: 0.2656605541706085\n",
      "epoch: 1 batch: 2 current batch loss: 0.24362486600875854\n",
      "epoch: 1 batch: 3 current batch loss: 0.2806490361690521\n",
      "epoch: 1 batch: 4 current batch loss: 0.23004262149333954\n",
      "epoch: 1 batch: 5 current batch loss: 0.24449464678764343\n",
      "epoch: 1 batch: 6 current batch loss: 0.23530271649360657\n",
      "epoch: 1 batch: 7 current batch loss: 0.20464472472667694\n",
      "epoch: 1 batch: 8 current batch loss: 0.21202658116817474\n",
      "epoch: 1 batch: 9 current batch loss: 0.2061668336391449\n",
      "epoch: 1 batch: 10 current batch loss: 0.23443682491779327\n",
      "epoch: 1 batch: 11 current batch loss: 0.2120732069015503\n",
      "epoch: 1 batch: 12 current batch loss: 0.19726797938346863\n",
      "epoch: 1 batch: 13 current batch loss: 0.21070997416973114\n",
      "epoch: 1 batch: 14 current batch loss: 0.19533103704452515\n",
      "epoch: 1 batch: 15 current batch loss: 0.18776202201843262\n",
      "epoch: 1 batch: 16 current batch loss: 0.22765368223190308\n",
      "epoch: 1 batch: 17 current batch loss: 0.16727106273174286\n",
      "epoch: 1 batch: 18 current batch loss: 0.19871214032173157\n",
      "epoch: 1 batch: 19 current batch loss: 0.2045847773551941\n",
      "epoch: 1 batch: 20 current batch loss: 0.19633981585502625\n",
      "epoch: 1 batch: 21 current batch loss: 0.17924508452415466\n",
      "epoch: 1 batch: 22 current batch loss: 0.19411879777908325\n",
      "epoch: 1 batch: 23 current batch loss: 0.188606396317482\n",
      "epoch: 1 batch: 24 current batch loss: 0.16322961449623108\n",
      "epoch: 1 batch: 25 current batch loss: 0.15997850894927979\n",
      "epoch: 1 batch: 26 current batch loss: 0.18088947236537933\n",
      "epoch: 1 batch: 27 current batch loss: 0.17980946600437164\n",
      "epoch: 1 batch: 28 current batch loss: 0.1674455851316452\n",
      "epoch: 1 batch: 29 current batch loss: 0.20839336514472961\n",
      "epoch: 2 batch: 0 current batch loss: 0.1585889607667923\n",
      "epoch: 2 batch: 1 current batch loss: 0.12372757494449615\n",
      "epoch: 2 batch: 2 current batch loss: 0.12572835385799408\n",
      "epoch: 2 batch: 3 current batch loss: 0.13659566640853882\n",
      "epoch: 2 batch: 4 current batch loss: 0.13501682877540588\n",
      "epoch: 2 batch: 5 current batch loss: 0.14000703394412994\n",
      "epoch: 2 batch: 6 current batch loss: 0.10720808804035187\n",
      "epoch: 2 batch: 7 current batch loss: 0.13639657199382782\n",
      "epoch: 2 batch: 8 current batch loss: 0.13148759305477142\n",
      "epoch: 2 batch: 9 current batch loss: 0.14125412702560425\n",
      "epoch: 2 batch: 10 current batch loss: 0.1388370543718338\n",
      "epoch: 2 batch: 11 current batch loss: 0.14672212302684784\n",
      "epoch: 2 batch: 12 current batch loss: 0.1230422630906105\n",
      "epoch: 2 batch: 13 current batch loss: 0.12798045575618744\n",
      "epoch: 2 batch: 14 current batch loss: 0.10885341465473175\n",
      "epoch: 2 batch: 15 current batch loss: 0.1407538652420044\n",
      "epoch: 2 batch: 16 current batch loss: 0.12338991463184357\n",
      "epoch: 2 batch: 17 current batch loss: 0.13553833961486816\n",
      "epoch: 2 batch: 18 current batch loss: 0.1331344097852707\n",
      "epoch: 2 batch: 19 current batch loss: 0.12149923294782639\n",
      "epoch: 2 batch: 20 current batch loss: 0.141148641705513\n",
      "epoch: 2 batch: 21 current batch loss: 0.11859036237001419\n",
      "epoch: 2 batch: 22 current batch loss: 0.12826241552829742\n",
      "epoch: 2 batch: 23 current batch loss: 0.11420717090368271\n",
      "epoch: 2 batch: 24 current batch loss: 0.12421764433383942\n",
      "epoch: 2 batch: 25 current batch loss: 0.15361177921295166\n",
      "epoch: 2 batch: 26 current batch loss: 0.11978565901517868\n",
      "epoch: 2 batch: 27 current batch loss: 0.1471225917339325\n",
      "epoch: 2 batch: 28 current batch loss: 0.13060611486434937\n",
      "epoch: 2 batch: 29 current batch loss: 0.18326696753501892\n",
      "epoch: 3 batch: 0 current batch loss: 0.10827343910932541\n",
      "epoch: 3 batch: 1 current batch loss: 0.09643509238958359\n",
      "epoch: 3 batch: 2 current batch loss: 0.11631973087787628\n",
      "epoch: 3 batch: 3 current batch loss: 0.11957982927560806\n",
      "epoch: 3 batch: 4 current batch loss: 0.10546336323022842\n",
      "epoch: 3 batch: 5 current batch loss: 0.09143288433551788\n",
      "epoch: 3 batch: 6 current batch loss: 0.10722466558218002\n",
      "epoch: 3 batch: 7 current batch loss: 0.09755541384220123\n",
      "epoch: 3 batch: 8 current batch loss: 0.10064058750867844\n",
      "epoch: 3 batch: 9 current batch loss: 0.08107074350118637\n",
      "epoch: 3 batch: 10 current batch loss: 0.12008979916572571\n",
      "epoch: 3 batch: 11 current batch loss: 0.10299137234687805\n",
      "epoch: 3 batch: 12 current batch loss: 0.09443715959787369\n",
      "epoch: 3 batch: 13 current batch loss: 0.11164285242557526\n",
      "epoch: 3 batch: 14 current batch loss: 0.08970750868320465\n",
      "epoch: 3 batch: 15 current batch loss: 0.10772143304347992\n",
      "epoch: 3 batch: 16 current batch loss: 0.08612377196550369\n",
      "epoch: 3 batch: 17 current batch loss: 0.11880841106176376\n",
      "epoch: 3 batch: 18 current batch loss: 0.0950971245765686\n",
      "epoch: 3 batch: 19 current batch loss: 0.09168854355812073\n",
      "epoch: 3 batch: 20 current batch loss: 0.09073448926210403\n",
      "epoch: 3 batch: 21 current batch loss: 0.06453592330217361\n",
      "epoch: 3 batch: 22 current batch loss: 0.08724789321422577\n",
      "epoch: 3 batch: 23 current batch loss: 0.09410904347896576\n",
      "epoch: 3 batch: 24 current batch loss: 0.0937386155128479\n",
      "epoch: 3 batch: 25 current batch loss: 0.08482019603252411\n",
      "epoch: 3 batch: 26 current batch loss: 0.10276532173156738\n",
      "epoch: 3 batch: 27 current batch loss: 0.09316882491111755\n",
      "epoch: 3 batch: 28 current batch loss: 0.09168428927659988\n",
      "epoch: 3 batch: 29 current batch loss: 0.07323085516691208\n",
      "epoch: 4 batch: 0 current batch loss: 0.07542961835861206\n",
      "epoch: 4 batch: 1 current batch loss: 0.08364090323448181\n",
      "epoch: 4 batch: 2 current batch loss: 0.0896323174238205\n",
      "epoch: 4 batch: 3 current batch loss: 0.06502766162157059\n",
      "epoch: 4 batch: 4 current batch loss: 0.0713018849492073\n",
      "epoch: 4 batch: 5 current batch loss: 0.05324238911271095\n",
      "epoch: 4 batch: 6 current batch loss: 0.06568633019924164\n",
      "epoch: 4 batch: 7 current batch loss: 0.07403777539730072\n",
      "epoch: 4 batch: 8 current batch loss: 0.07110869884490967\n",
      "epoch: 4 batch: 9 current batch loss: 0.07686217129230499\n",
      "epoch: 4 batch: 10 current batch loss: 0.07257375866174698\n",
      "epoch: 4 batch: 11 current batch loss: 0.07246005535125732\n",
      "epoch: 4 batch: 12 current batch loss: 0.08802298456430435\n",
      "epoch: 4 batch: 13 current batch loss: 0.07543902099132538\n",
      "epoch: 4 batch: 14 current batch loss: 0.08792781829833984\n",
      "epoch: 4 batch: 15 current batch loss: 0.07976526021957397\n",
      "epoch: 4 batch: 16 current batch loss: 0.07817404717206955\n",
      "epoch: 4 batch: 17 current batch loss: 0.09730824828147888\n",
      "epoch: 4 batch: 18 current batch loss: 0.06621821969747543\n",
      "epoch: 4 batch: 19 current batch loss: 0.06775103509426117\n",
      "epoch: 4 batch: 20 current batch loss: 0.06261499971151352\n",
      "epoch: 4 batch: 21 current batch loss: 0.07870706170797348\n",
      "epoch: 4 batch: 22 current batch loss: 0.06741634011268616\n",
      "epoch: 4 batch: 23 current batch loss: 0.07775650918483734\n",
      "epoch: 4 batch: 24 current batch loss: 0.06835585087537766\n",
      "epoch: 4 batch: 25 current batch loss: 0.07689262926578522\n",
      "epoch: 4 batch: 26 current batch loss: 0.07032997906208038\n",
      "epoch: 4 batch: 27 current batch loss: 0.06451448053121567\n",
      "epoch: 4 batch: 28 current batch loss: 0.07467971742153168\n",
      "epoch: 4 batch: 29 current batch loss: 0.08084966242313385\n",
      "epoch: 5 batch: 0 current batch loss: 0.050769153982400894\n",
      "epoch: 5 batch: 1 current batch loss: 0.04799367114901543\n",
      "epoch: 5 batch: 2 current batch loss: 0.06118730828166008\n",
      "epoch: 5 batch: 3 current batch loss: 0.0500396192073822\n",
      "epoch: 5 batch: 4 current batch loss: 0.045334190130233765\n",
      "epoch: 5 batch: 5 current batch loss: 0.06016460433602333\n",
      "epoch: 5 batch: 6 current batch loss: 0.06570461392402649\n",
      "epoch: 5 batch: 7 current batch loss: 0.05481576547026634\n",
      "epoch: 5 batch: 8 current batch loss: 0.05888226255774498\n",
      "epoch: 5 batch: 9 current batch loss: 0.06395883858203888\n",
      "epoch: 5 batch: 10 current batch loss: 0.07374019175767899\n",
      "epoch: 5 batch: 11 current batch loss: 0.05288681015372276\n",
      "epoch: 5 batch: 12 current batch loss: 0.06218276172876358\n",
      "epoch: 5 batch: 13 current batch loss: 0.05497095361351967\n",
      "epoch: 5 batch: 14 current batch loss: 0.05347653850913048\n",
      "epoch: 5 batch: 15 current batch loss: 0.053488560020923615\n",
      "epoch: 5 batch: 16 current batch loss: 0.050809528678655624\n",
      "epoch: 5 batch: 17 current batch loss: 0.05527401342988014\n",
      "epoch: 5 batch: 18 current batch loss: 0.04624584689736366\n",
      "epoch: 5 batch: 19 current batch loss: 0.06127449870109558\n",
      "epoch: 5 batch: 20 current batch loss: 0.056158989667892456\n",
      "epoch: 5 batch: 21 current batch loss: 0.07054948061704636\n",
      "epoch: 5 batch: 22 current batch loss: 0.06331094354391098\n",
      "epoch: 5 batch: 23 current batch loss: 0.04679421707987785\n",
      "epoch: 5 batch: 24 current batch loss: 0.05488990247249603\n",
      "epoch: 5 batch: 25 current batch loss: 0.06592303514480591\n",
      "epoch: 5 batch: 26 current batch loss: 0.052492156624794006\n",
      "epoch: 5 batch: 27 current batch loss: 0.046228453516960144\n",
      "epoch: 5 batch: 28 current batch loss: 0.05707555264234543\n",
      "epoch: 5 batch: 29 current batch loss: 0.061878398060798645\n",
      "epoch: 6 batch: 0 current batch loss: 0.04086630418896675\n",
      "epoch: 6 batch: 1 current batch loss: 0.0454707145690918\n",
      "epoch: 6 batch: 2 current batch loss: 0.044599078595638275\n",
      "epoch: 6 batch: 3 current batch loss: 0.04108995571732521\n",
      "epoch: 6 batch: 4 current batch loss: 0.04029177501797676\n",
      "epoch: 6 batch: 5 current batch loss: 0.05473789945244789\n",
      "epoch: 6 batch: 6 current batch loss: 0.05748370289802551\n",
      "epoch: 6 batch: 7 current batch loss: 0.049192026257514954\n",
      "epoch: 6 batch: 8 current batch loss: 0.04411343112587929\n",
      "epoch: 6 batch: 9 current batch loss: 0.04246468096971512\n",
      "epoch: 6 batch: 10 current batch loss: 0.03996390476822853\n",
      "epoch: 6 batch: 11 current batch loss: 0.047266606241464615\n",
      "epoch: 6 batch: 12 current batch loss: 0.039385851472616196\n",
      "epoch: 6 batch: 13 current batch loss: 0.04358372464776039\n",
      "epoch: 6 batch: 14 current batch loss: 0.042635586112737656\n",
      "epoch: 6 batch: 15 current batch loss: 0.04709099978208542\n",
      "epoch: 6 batch: 16 current batch loss: 0.0543634258210659\n",
      "epoch: 6 batch: 17 current batch loss: 0.053693000227212906\n",
      "epoch: 6 batch: 18 current batch loss: 0.048299115151166916\n",
      "epoch: 6 batch: 19 current batch loss: 0.03969331085681915\n",
      "epoch: 6 batch: 20 current batch loss: 0.04531175270676613\n",
      "epoch: 6 batch: 21 current batch loss: 0.05081572383642197\n",
      "epoch: 6 batch: 22 current batch loss: 0.04776371270418167\n",
      "epoch: 6 batch: 23 current batch loss: 0.0508044995367527\n",
      "epoch: 6 batch: 24 current batch loss: 0.041758716106414795\n",
      "epoch: 6 batch: 25 current batch loss: 0.06449928134679794\n",
      "epoch: 6 batch: 26 current batch loss: 0.05758286640048027\n",
      "epoch: 6 batch: 27 current batch loss: 0.05289698392152786\n",
      "epoch: 6 batch: 28 current batch loss: 0.04850742220878601\n",
      "epoch: 6 batch: 29 current batch loss: 0.04728975147008896\n",
      "epoch: 7 batch: 0 current batch loss: 0.034212496131658554\n",
      "epoch: 7 batch: 1 current batch loss: 0.043122321367263794\n",
      "epoch: 7 batch: 2 current batch loss: 0.041833147406578064\n",
      "epoch: 7 batch: 3 current batch loss: 0.04589438810944557\n",
      "epoch: 7 batch: 4 current batch loss: 0.03687511384487152\n",
      "epoch: 7 batch: 5 current batch loss: 0.024565264582633972\n",
      "epoch: 7 batch: 6 current batch loss: 0.03265019506216049\n",
      "epoch: 7 batch: 7 current batch loss: 0.04368802532553673\n",
      "epoch: 7 batch: 8 current batch loss: 0.04732671007514\n",
      "epoch: 7 batch: 9 current batch loss: 0.04939321056008339\n",
      "epoch: 7 batch: 10 current batch loss: 0.04200593754649162\n",
      "epoch: 7 batch: 11 current batch loss: 0.036626748740673065\n",
      "epoch: 7 batch: 12 current batch loss: 0.04014168307185173\n",
      "epoch: 7 batch: 13 current batch loss: 0.04020332545042038\n",
      "epoch: 7 batch: 14 current batch loss: 0.05193182826042175\n",
      "epoch: 7 batch: 15 current batch loss: 0.03570996969938278\n",
      "epoch: 7 batch: 16 current batch loss: 0.03291928395628929\n",
      "epoch: 7 batch: 17 current batch loss: 0.042684655636548996\n",
      "epoch: 7 batch: 18 current batch loss: 0.0497935451567173\n",
      "epoch: 7 batch: 19 current batch loss: 0.03488244116306305\n",
      "epoch: 7 batch: 20 current batch loss: 0.03763769939541817\n",
      "epoch: 7 batch: 21 current batch loss: 0.042178358882665634\n",
      "epoch: 7 batch: 22 current batch loss: 0.03769781440496445\n",
      "epoch: 7 batch: 23 current batch loss: 0.040404465049505234\n",
      "epoch: 7 batch: 24 current batch loss: 0.03592253476381302\n",
      "epoch: 7 batch: 25 current batch loss: 0.03716139867901802\n",
      "epoch: 7 batch: 26 current batch loss: 0.031417861580848694\n",
      "epoch: 7 batch: 27 current batch loss: 0.036703985184431076\n",
      "epoch: 7 batch: 28 current batch loss: 0.02949950285255909\n",
      "epoch: 7 batch: 29 current batch loss: 0.023643972352147102\n"
     ]
    }
   ],
   "source": [
    "# Check if GPU is available\n",
    "device = torch.device(\"cuda\" if torch.cuda.is_available() else \"cpu\")\n",
    "print(f\"Working on {device}\")\n",
    "\n",
    "net = MLP().to(device)\n",
    "optimizer = torch.optim.Adam(net.parameters(), 0.001)   #initial and fixed learning rate of 0.001.\n",
    "\n",
    "net.train()    #it notifies the network layers (especially batchnorm or dropout layers, which we don't use in this example) that we are doing traning\n",
    "for epoch in range(8):  #  an epoch is a training run through the whole data set\n",
    "\n",
    "    for batch, data in enumerate(trainloader):\n",
    "        batch_inputs, batch_labels = data\n",
    "\n",
    "        batch_inputs = batch_inputs.to(device)  #explicitly moving the data to the target device\n",
    "        batch_labels = batch_labels.to(device)\n",
    "\n",
    "        #batch_inputs.squeeze(1)     #alternatively if not for a Flatten layer, squeeze() could be used to remove the second order of the tensor, the Channel, which is one-dimensional (this index can be equal to 0 only)\n",
    "\n",
    "        optimizer.zero_grad()\n",
    "\n",
    "        batch_outputs = net(batch_inputs)   #this line calls the forward(self, x) method of the MLP object. Please note, that the last layer of the MLP is linear\n",
    "                                            #and MLP doesn't apply\n",
    "                                            #the nonlinear activation after the last layer\n",
    "        loss = torch.nn.functional.cross_entropy(batch_outputs, batch_labels, reduction = \"mean\") #instead, nonlinear softmax is applied internally in THIS loss function\n",
    "        print(\"epoch:\", epoch, \"batch:\", batch, \"current batch loss:\", loss.item())\n",
    "        loss.backward()       #this computes gradients as we have seen in previous workshops\n",
    "        optimizer.step()     #but this line in fact updates our neural network.\n",
    "                                ####You can experiment - comment this line and check, that the loss DOE"
   ]
  },
  {
   "cell_type": "markdown",
   "id": "sTe6ViIsHUbV",
   "metadata": {
    "id": "sTe6ViIsHUbV"
   },
   "source": [
    "# Testing\n",
    "----------------------\n",
    "\n",
    "Correct the code below so it works."
   ]
  },
  {
   "cell_type": "code",
   "execution_count": 11,
   "id": "jcPek-rrHYMi",
   "metadata": {
    "id": "jcPek-rrHYMi"
   },
   "outputs": [
    {
     "name": "stdout",
     "output_type": "stream",
     "text": [
      "accuracy =  0.982\n"
     ]
    }
   ],
   "source": [
    "good = 0\n",
    "wrong = 0\n",
    "\n",
    "net.eval()              #it notifies the network layers (especially batchnorm or dropout layers, which we don't use in this example) that we are doing evaluation\n",
    "with torch.no_grad():   #it prevents that the net learns during evalution. The gradients are not computed, so this makes it faster, too\n",
    "    for batch, data in enumerate(testloader): #batches in test are of size 1\n",
    "        datapoint, label = data\n",
    "\n",
    "        prediction = net(datapoint.to(device))                  #prediction has values representing the \"prevalence\" of the corresponding class\n",
    "        classification = torch.argmax(prediction)    #the class is the index of maximal \"prevalence\"\n",
    "\n",
    "        if classification.item() == label.item():\n",
    "            good += 1\n",
    "        else:\n",
    "            wrong += 1\n",
    "\n",
    "print(\"accuracy = \", good/(good+wrong))"
   ]
  },
  {
   "cell_type": "markdown",
   "id": "ZJ5c7P6ChB3e",
   "metadata": {
    "id": "ZJ5c7P6ChB3e"
   },
   "source": [
    "# **Homework Assignment - *Do Androids Dream of Electric Sheep?***\n",
    "\n",
    "-------------------------------------  \n",
    "\n",
    "\"Do Androids Dream of Electric Sheep?\" – the famous title of Philip K. Dick’s novel – raises a fascinating question: if artificial intelligence could dream, what would it see?  \n",
    "\n",
    "In this assignment, we explore a phenomenon known as **neural network dreams**, where instead of optimizing a neural network's weights, we **optimize the input itself** to achieve a desired classification outcome. Given a fully trained MNIST classification network, your goal is to manipulate its inputs so that it confidently predicts each digit from 0 to 9, starting from pure noise.  \n",
    "\n",
    "## **Tasks Description**  \n",
    "\n",
    "During this class we designed and trained a **MNIST classification neural network**, which takes a **batch of grayscale images** of size **$28 \\times 28$** as input and outputs a probability distribution over the 10 digit classes (0–9). However, instead of using real MNIST images, you will **treat the input batch itself as a set of trainable parameters** and optimize it so that the network classifies each image as a specific digit.  \n",
    "\n",
    "1. Your first task is to generate **a batch of 10 images**, where each image is\n",
    "   classified as one of the digits **0, 1, 2, ..., 9**, starting from an initial batch of ten random Gaussian noise images.  \n",
    "\n",
    "   Discuss the following question: do the generated images resemble real MNIST digits? Why or why not?  \n",
    "\n",
    "2. Discuss, how you would approach a second task of\n",
    "   generating an image that   \n",
    "   bares similarity to two or more digits simultaneously. **Implement your idea to see the results.**\n",
    "\n",
    "3. Third task: repeat the previous tasks with an additional L2 penalty on noise within the images. Experiment with adding `lambda_l2 * dreamed_input_batch.pow(2).mean()` loss term, with `lambda_l2` being the penalty cooefficient within an exponential progression, say from 0.001 to 10.0. Are the new digits recognized correctly? How does the penalty impact the digit quality? Explain.\n",
    "\n",
    "### **Optimization Process for Task 1**  \n",
    "\n",
    "1. Start with a **batch of 10 random Gaussian noise images** as the initial input and $(0, 1, 2, \\ldots, 9)$ as the expected output batch of target digits.  \n",
    "2. Define the objective: maximize the neural network's confidence for the corresponding target digit for each image in the batch.  \n",
    "3. Use **gradient descent** to modify the pixels in each image, making the network classify each one as the assigned digit.  \n",
    "4. Repeat until the network assigns suffieciently high confidence to each image’s target class.  \n",
    "\n",
    "### **Implementation Details**  \n",
    "\n",
    "- The neural network weights **must remain frozen** during optimization. You are modifying only the input images.  \n",
    "- The loss function should be the **cross-entropy loss** between the predicted probabilities and the desired class labels (plus an optional weighted L2 penalty regularizing the images in task 3).\n",
    "\n",
    "\n",
    "## **Points to Note**  \n",
    "\n",
    "1. **Visualize** the optimization process: Save images of the generated inputs at different steps and plot the classification confidence evolution over iterations.  \n",
    "3. **Document your findings** and explain the behavior you observe.  \n",
    "\n",
    "## **Task & Deliverables**  \n",
    "\n",
    "- A **Colab notebook** containing solutions for both tasks:\n",
    "  - The full implementation.\n",
    "  - Visualizations of the generated batch of images.\n",
    "  - A written explanation of your observations.\n",
    "- **Bonus:** If you create an **animation** showing the evolution of the input images during optimization, it will be considered a strong enhancement to your submission.\n",
    "  - You can generate an animation programmatically (e.g., using Matplotlib or OpenCV).\n",
    "  - Or, save image frames and use external tools to create a video.\n",
    "  - Provide a **link** to any video files in the README.\n",
    "- Upload your notebook and results to your **GitHub repository** for the course.\n",
    "- In the **README**, include a **link** to the notebook.\n",
    "- In the notebook, include **“Open in Colab”** badge so it can be launched directly.\n",
    "\n",
    "\n"
   ]
  },
  {
   "cell_type": "markdown",
   "id": "992bc84f-dac2-4a74-a703-dfe551a8a237",
   "metadata": {},
   "source": [
    "# Solution"
   ]
  }
 ],
 "metadata": {
  "accelerator": "GPU",
  "colab": {
   "gpuType": "T4",
   "include_colab_link": true,
   "provenance": []
  },
  "kernelspec": {
   "display_name": "Python 3 (ipykernel)",
   "language": "python",
   "name": "python3"
  },
  "language_info": {
   "codemirror_mode": {
    "name": "ipython",
    "version": 3
   },
   "file_extension": ".py",
   "mimetype": "text/x-python",
   "name": "python",
   "nbconvert_exporter": "python",
   "pygments_lexer": "ipython3",
   "version": "3.13.2"
  }
 },
 "nbformat": 4,
 "nbformat_minor": 5
}
