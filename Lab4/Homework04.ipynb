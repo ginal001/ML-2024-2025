{
 "cells": [
  {
   "cell_type": "markdown",
   "id": "82fcb182-3a0e-4cda-8064-5fbcf6fdd4f1",
   "metadata": {},
   "source": [
    "# **Homework Assignment: Analyzing and Plotting Bias in Penalized Regression**\n",
    "\n",
    "-------------------------------\n",
    "\n",
    "In this assignment, you will explore how **Ridge** and **Lasso** regression introduce **bias** into a model to reduce **variance**, and how the choice of the regularization parameter $\\lambda$ affects this trade-off. The goal is to visualize and analyze the **bias-variance trade-off** and understand the conditions under which penalization helps or hinders model performance.\n",
    "\n",
    "## **The Question**\n",
    "\n",
    "**How does varying the regularization parameter $\\lambda$ in Ridge and Lasso regression impact the trade-off between bias and variance?**\n",
    "\n",
    "- Generate a synthetic dataset based on a **known** linear relationship:\n",
    "  \n",
    "  $$\n",
    "  y = \\beta_0 + \\beta_1 x + \\ldots + \\epsilon\n",
    "  $$\n",
    "\n",
    "  where $$\\epsilon \\sim \\mathcal{N}(0, \\sigma^2),$$\n",
    "\n",
    "  use a **high-dimensional** setting (e.g., 50 predictors) with only a few non-zero true coefficients to emphasize the effects of regularization. I stress, the $\\beta_i$ coefficients should be known for this experiment and they should be mostly 0, with only a few non-zero parameters.\n",
    "\n",
    "- Investigate how increasing $\\lambda$ influences the model’s **bias**, **variance**, and **Mean Squared Error (MSE)**.\n",
    "- Plot **Bias²**, **Variance**, and **MSE** on a single graph for both Ridge and Lasso models.\n",
    "- Explain MSE decomposition into bias and variance. Read more on the MSE decomposition if you need to.\n",
    "\n",
    "**Does the regularization lead to an optimal trade-off point where MSE is minimized? Explain why this point exists.**\n",
    "\n",
    "\n",
    "\n",
    "\n",
    "**Expected Outcome:**\n",
    " - As $\\lambda$ increases:\n",
    "   - **Bias** increases (the model becomes too simple).\n",
    "   - **Variance** decreases (the model becomes more stable).\n",
    "   - **MSE** forms a **U-shape**, revealing the optimal trade-off.\n",
    "\n",
    "- Analyze how **Ridge** and **Lasso** differ in terms of their bias-variance trade-offs.\n",
    "- Discuss situations where one method may outperform the other, considering factors like **feature sparsity** and **multicollinearity**.\n",
    "\n",
    "\n",
    "## **Colab Notebook Requirements**\n",
    "- Your **Colab notebook** should:\n",
    "  - Simulate the synthetic dataset and apply Ridge and Lasso regression.\n",
    "  - Plot **Bias²**, **Variance**, and **MSE** against $\\lambda$ for both models.\n",
    "  - Include a section answering the questions.\n",
    "  - Be well-documented with comments and explanations for each step.\n",
    "\n",
    "\n",
    "## **Publish on GitHub**\n",
    "- Upload your Colab notebook to your **GitHub repository** for this course.\n",
    "- In your repository’s **README**, include a **link** to the notebook.\n",
    "- In the notebook include **“Open in Colab”** badge so the notebook can be launched directly from GitHub."
   ]
  },
  {
   "cell_type": "markdown",
   "id": "bb7303e2-2509-4d2b-93a8-7846a2b3ffba",
   "metadata": {},
   "source": [
    "## Solution ##"
   ]
  },
  {
   "cell_type": "markdown",
   "id": "5c06dea4-b0d5-4b00-a8f0-bf5c58c2a358",
   "metadata": {},
   "source": [
    "Firstly, we are going to create synthetic dataset."
   ]
  },
  {
   "cell_type": "code",
   "execution_count": 19,
   "id": "8c02cb15-5c81-44ad-9879-a00d4894d0d6",
   "metadata": {},
   "outputs": [],
   "source": [
    "import numpy as np\n",
    "import matplotlib.pyplot as plt\n",
    "\n",
    "np.random.seed(42)\n",
    "\n",
    "n_samples =  200\n",
    "n_features = 50 \n",
    "\n",
    "true_coef = np.zeros(n_features)\n",
    "non_zero_indices = [0, 1, 4, 16, 22, 36]  \n",
    "beta_values = [5, 12, -3, 5, 9, 12]\n",
    "true_coef[non_zero_indices] = beta_values\n",
    "\n",
    "\n",
    "X_test = np.random.uniform(-1, 1, (n_samples, n_features - 1))\n",
    "X_test = np.hstack((np.ones((n_samples, 1)), X_test)) # adding bias\n",
    "\n",
    "y_test = X_test@true_coef #think about adding noise or not "
   ]
  },
  {
   "cell_type": "code",
   "execution_count": 20,
   "id": "310e3920-be98-4135-b8dc-0e948a779b26",
   "metadata": {},
   "outputs": [],
   "source": [
    "def true_function(X):\n",
    "    return X @ true_coefs\n",
    "\n",
    "def generate_train_data(n_features, n_samples, betas, sigma2):\n",
    "    X_train = np.random.uniform(-1, 1, (n_samples, n_features - 1))\n",
    "    X_train = np.hstack((np.ones((n_samples, 1)), X_train)) # adding bias\n",
    "\n",
    "    errors = sigma2*np.random.randn(n_samples)\n",
    "    y_train = X_train@beta + errors\n",
    "    return X_train, y_train"
   ]
  },
  {
   "cell_type": "markdown",
   "id": "b8f44883-876c-4258-ac85-80504c7609ed",
   "metadata": {},
   "source": [
    "Creating models."
   ]
  },
  {
   "cell_type": "code",
   "execution_count": 18,
   "id": "5697e3b4-6399-4469-9936-5b6d434ed563",
   "metadata": {},
   "outputs": [],
   "source": [
    "from sklearn.linear_model import Ridge\n",
    "from sklearn.linear_model import Lasso\n",
    "from sklearn.preprocessing import StandardScaler\n",
    "from sklearn.metrics import mean_squared_error\n",
    "\n",
    "alphas = np.logspace(-2, 2, 50)\n",
    "results = {'ridge': {'bias2': [], 'variance': [], 'mse': []},\n",
    "           'lasso': {'bias2': [], 'variance': [], 'mse': []}}\n",
    "n_simulations = 100"
   ]
  }
 ],
 "metadata": {
  "kernelspec": {
   "display_name": "Python 3 (ipykernel)",
   "language": "python",
   "name": "python3"
  },
  "language_info": {
   "codemirror_mode": {
    "name": "ipython",
    "version": 3
   },
   "file_extension": ".py",
   "mimetype": "text/x-python",
   "name": "python",
   "nbconvert_exporter": "python",
   "pygments_lexer": "ipython3",
   "version": "3.11.9"
  }
 },
 "nbformat": 4,
 "nbformat_minor": 5
}
